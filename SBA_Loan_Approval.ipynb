{
 "cells": [
  {
   "cell_type": "markdown",
   "id": "8d5db1d6",
   "metadata": {},
   "source": [
    "# SBA LOAN APPROVAL DATASET \n",
    "\n",
    "### INTRODUCTION\n",
    "\n",
    "The dataset is from the U.S Small Business Administration. To start with, we had 899164 rows of data and 27 feature columns. The main purpose of the project was to classify and predict if the loan should be approved or rejected based on the different feature values that we have in our data. Further, our goal was also to analyze how accurately different models can perform this classification.\n",
    "\n",
    "Here is a snippet of the dataset :"
   ]
  },
  {
   "cell_type": "code",
   "execution_count": 2,
   "id": "fb7d9392",
   "metadata": {
    "scrolled": true
   },
   "outputs": [
    {
     "data": {
      "text/html": [
       "<div>\n",
       "<style scoped>\n",
       "    .dataframe tbody tr th:only-of-type {\n",
       "        vertical-align: middle;\n",
       "    }\n",
       "\n",
       "    .dataframe tbody tr th {\n",
       "        vertical-align: top;\n",
       "    }\n",
       "\n",
       "    .dataframe thead th {\n",
       "        text-align: right;\n",
       "    }\n",
       "</style>\n",
       "<table border=\"1\" class=\"dataframe\">\n",
       "  <thead>\n",
       "    <tr style=\"text-align: right;\">\n",
       "      <th></th>\n",
       "      <th>LoanNr_ChkDgt</th>\n",
       "      <th>Name</th>\n",
       "      <th>City</th>\n",
       "      <th>State</th>\n",
       "      <th>Zip</th>\n",
       "      <th>Bank</th>\n",
       "      <th>BankState</th>\n",
       "      <th>NAICS</th>\n",
       "      <th>ApprovalDate</th>\n",
       "      <th>ApprovalFY</th>\n",
       "      <th>...</th>\n",
       "      <th>RevLineCr</th>\n",
       "      <th>LowDoc</th>\n",
       "      <th>ChgOffDate</th>\n",
       "      <th>DisbursementDate</th>\n",
       "      <th>DisbursementGross</th>\n",
       "      <th>BalanceGross</th>\n",
       "      <th>MIS_Status</th>\n",
       "      <th>ChgOffPrinGr</th>\n",
       "      <th>GrAppv</th>\n",
       "      <th>SBA_Appv</th>\n",
       "    </tr>\n",
       "  </thead>\n",
       "  <tbody>\n",
       "    <tr>\n",
       "      <th>0</th>\n",
       "      <td>1000014003</td>\n",
       "      <td>ABC HOBBYCRAFT</td>\n",
       "      <td>EVANSVILLE</td>\n",
       "      <td>IN</td>\n",
       "      <td>47711</td>\n",
       "      <td>FIFTH THIRD BANK</td>\n",
       "      <td>OH</td>\n",
       "      <td>451120</td>\n",
       "      <td>28-Feb-97</td>\n",
       "      <td>1997</td>\n",
       "      <td>...</td>\n",
       "      <td>N</td>\n",
       "      <td>Y</td>\n",
       "      <td>NaN</td>\n",
       "      <td>28-Feb-99</td>\n",
       "      <td>$60,000.00</td>\n",
       "      <td>$0.00</td>\n",
       "      <td>P I F</td>\n",
       "      <td>$0.00</td>\n",
       "      <td>$60,000.00</td>\n",
       "      <td>$48,000.00</td>\n",
       "    </tr>\n",
       "    <tr>\n",
       "      <th>1</th>\n",
       "      <td>1000024006</td>\n",
       "      <td>LANDMARK BAR &amp; GRILLE (THE)</td>\n",
       "      <td>NEW PARIS</td>\n",
       "      <td>IN</td>\n",
       "      <td>46526</td>\n",
       "      <td>1ST SOURCE BANK</td>\n",
       "      <td>IN</td>\n",
       "      <td>722410</td>\n",
       "      <td>28-Feb-97</td>\n",
       "      <td>1997</td>\n",
       "      <td>...</td>\n",
       "      <td>N</td>\n",
       "      <td>Y</td>\n",
       "      <td>NaN</td>\n",
       "      <td>31-May-97</td>\n",
       "      <td>$40,000.00</td>\n",
       "      <td>$0.00</td>\n",
       "      <td>P I F</td>\n",
       "      <td>$0.00</td>\n",
       "      <td>$40,000.00</td>\n",
       "      <td>$32,000.00</td>\n",
       "    </tr>\n",
       "    <tr>\n",
       "      <th>2</th>\n",
       "      <td>1000034009</td>\n",
       "      <td>WHITLOCK DDS, TODD M.</td>\n",
       "      <td>BLOOMINGTON</td>\n",
       "      <td>IN</td>\n",
       "      <td>47401</td>\n",
       "      <td>GRANT COUNTY STATE BANK</td>\n",
       "      <td>IN</td>\n",
       "      <td>621210</td>\n",
       "      <td>28-Feb-97</td>\n",
       "      <td>1997</td>\n",
       "      <td>...</td>\n",
       "      <td>N</td>\n",
       "      <td>N</td>\n",
       "      <td>NaN</td>\n",
       "      <td>31-Dec-97</td>\n",
       "      <td>$287,000.00</td>\n",
       "      <td>$0.00</td>\n",
       "      <td>P I F</td>\n",
       "      <td>$0.00</td>\n",
       "      <td>$287,000.00</td>\n",
       "      <td>$215,250.00</td>\n",
       "    </tr>\n",
       "    <tr>\n",
       "      <th>3</th>\n",
       "      <td>1000044001</td>\n",
       "      <td>BIG BUCKS PAWN &amp; JEWELRY, LLC</td>\n",
       "      <td>BROKEN ARROW</td>\n",
       "      <td>OK</td>\n",
       "      <td>74012</td>\n",
       "      <td>1ST NATL BK &amp; TR CO OF BROKEN</td>\n",
       "      <td>OK</td>\n",
       "      <td>0</td>\n",
       "      <td>28-Feb-97</td>\n",
       "      <td>1997</td>\n",
       "      <td>...</td>\n",
       "      <td>N</td>\n",
       "      <td>Y</td>\n",
       "      <td>NaN</td>\n",
       "      <td>30-Jun-97</td>\n",
       "      <td>$35,000.00</td>\n",
       "      <td>$0.00</td>\n",
       "      <td>P I F</td>\n",
       "      <td>$0.00</td>\n",
       "      <td>$35,000.00</td>\n",
       "      <td>$28,000.00</td>\n",
       "    </tr>\n",
       "    <tr>\n",
       "      <th>4</th>\n",
       "      <td>1000054004</td>\n",
       "      <td>ANASTASIA CONFECTIONS, INC.</td>\n",
       "      <td>ORLANDO</td>\n",
       "      <td>FL</td>\n",
       "      <td>32801</td>\n",
       "      <td>FLORIDA BUS. DEVEL CORP</td>\n",
       "      <td>FL</td>\n",
       "      <td>0</td>\n",
       "      <td>28-Feb-97</td>\n",
       "      <td>1997</td>\n",
       "      <td>...</td>\n",
       "      <td>N</td>\n",
       "      <td>N</td>\n",
       "      <td>NaN</td>\n",
       "      <td>14-May-97</td>\n",
       "      <td>$229,000.00</td>\n",
       "      <td>$0.00</td>\n",
       "      <td>P I F</td>\n",
       "      <td>$0.00</td>\n",
       "      <td>$229,000.00</td>\n",
       "      <td>$229,000.00</td>\n",
       "    </tr>\n",
       "  </tbody>\n",
       "</table>\n",
       "<p>5 rows × 27 columns</p>\n",
       "</div>"
      ],
      "text/plain": [
       "   LoanNr_ChkDgt                           Name          City State    Zip  \\\n",
       "0     1000014003                 ABC HOBBYCRAFT    EVANSVILLE    IN  47711   \n",
       "1     1000024006    LANDMARK BAR & GRILLE (THE)     NEW PARIS    IN  46526   \n",
       "2     1000034009          WHITLOCK DDS, TODD M.   BLOOMINGTON    IN  47401   \n",
       "3     1000044001  BIG BUCKS PAWN & JEWELRY, LLC  BROKEN ARROW    OK  74012   \n",
       "4     1000054004    ANASTASIA CONFECTIONS, INC.       ORLANDO    FL  32801   \n",
       "\n",
       "                            Bank BankState   NAICS ApprovalDate ApprovalFY  \\\n",
       "0               FIFTH THIRD BANK        OH  451120    28-Feb-97       1997   \n",
       "1                1ST SOURCE BANK        IN  722410    28-Feb-97       1997   \n",
       "2        GRANT COUNTY STATE BANK        IN  621210    28-Feb-97       1997   \n",
       "3  1ST NATL BK & TR CO OF BROKEN        OK       0    28-Feb-97       1997   \n",
       "4        FLORIDA BUS. DEVEL CORP        FL       0    28-Feb-97       1997   \n",
       "\n",
       "   ...  RevLineCr  LowDoc  ChgOffDate  DisbursementDate  DisbursementGross  \\\n",
       "0  ...          N       Y         NaN         28-Feb-99        $60,000.00    \n",
       "1  ...          N       Y         NaN         31-May-97        $40,000.00    \n",
       "2  ...          N       N         NaN         31-Dec-97       $287,000.00    \n",
       "3  ...          N       Y         NaN         30-Jun-97        $35,000.00    \n",
       "4  ...          N       N         NaN         14-May-97       $229,000.00    \n",
       "\n",
       "   BalanceGross  MIS_Status ChgOffPrinGr        GrAppv      SBA_Appv  \n",
       "0        $0.00        P I F       $0.00    $60,000.00    $48,000.00   \n",
       "1        $0.00        P I F       $0.00    $40,000.00    $32,000.00   \n",
       "2        $0.00        P I F       $0.00   $287,000.00   $215,250.00   \n",
       "3        $0.00        P I F       $0.00    $35,000.00    $28,000.00   \n",
       "4        $0.00        P I F       $0.00   $229,000.00   $229,000.00   \n",
       "\n",
       "[5 rows x 27 columns]"
      ]
     },
     "execution_count": 2,
     "metadata": {},
     "output_type": "execute_result"
    }
   ],
   "source": [
    "# -*- coding: utf-8 -*-\n",
    "\n",
    "\"\"\"\n",
    "\n",
    "Created on Thu Dec  9 22:15:03 2021\n",
    "\n",
    "\n",
    "\n",
    "@author: Group A (Jagriti, Renuka, Vallabh)\n",
    "\n",
    "\"\"\"\n",
    "\n",
    "\n",
    "import pandas as pd\n",
    "import numpy as np\n",
    "import matplotlib.pyplot as plt\n",
    "import seaborn as sns\n",
    "from sklearn.model_selection import train_test_split, cross_val_score\n",
    "from sklearn.metrics import accuracy_score, confusion_matrix, classification_report\n",
    "from sklearn.preprocessing import StandardScaler\n",
    "from sklearn.linear_model import LogisticRegression\n",
    "\n",
    "import warnings\n",
    "warnings.filterwarnings('ignore')\n",
    "\n",
    "\n",
    "#Loading the SBA loan data here\n",
    "df_Loan = pd.read_csv('SBAnational.csv')\n",
    "\n",
    "df_Loan.head()"
   ]
  },
  {
   "cell_type": "code",
   "execution_count": 3,
   "id": "7de83d15",
   "metadata": {},
   "outputs": [
    {
     "data": {
      "text/plain": [
       "Index(['LoanNr_ChkDgt', 'Name', 'City', 'State', 'Zip', 'Bank', 'BankState',\n",
       "       'NAICS', 'ApprovalDate', 'ApprovalFY', 'Term', 'NoEmp', 'NewExist',\n",
       "       'CreateJob', 'RetainedJob', 'FranchiseCode', 'UrbanRural', 'RevLineCr',\n",
       "       'LowDoc', 'ChgOffDate', 'DisbursementDate', 'DisbursementGross',\n",
       "       'BalanceGross', 'MIS_Status', 'ChgOffPrinGr', 'GrAppv', 'SBA_Appv'],\n",
       "      dtype='object')"
      ]
     },
     "execution_count": 3,
     "metadata": {},
     "output_type": "execute_result"
    }
   ],
   "source": [
    "df_Loan.columns"
   ]
  },
  {
   "cell_type": "code",
   "execution_count": 104,
   "id": "bf4c560c",
   "metadata": {},
   "outputs": [
    {
     "data": {
      "text/plain": [
       "(899164, 27)"
      ]
     },
     "execution_count": 104,
     "metadata": {},
     "output_type": "execute_result"
    }
   ],
   "source": [
    "df_Loan.shape"
   ]
  },
  {
   "cell_type": "code",
   "execution_count": 105,
   "id": "16da5a39",
   "metadata": {},
   "outputs": [
    {
     "data": {
      "text/plain": [
       "LoanNr_ChkDgt          int64\n",
       "Name                  object\n",
       "City                  object\n",
       "State                 object\n",
       "Zip                    int64\n",
       "Bank                  object\n",
       "BankState             object\n",
       "NAICS                  int64\n",
       "ApprovalDate          object\n",
       "ApprovalFY            object\n",
       "Term                   int64\n",
       "NoEmp                  int64\n",
       "NewExist             float64\n",
       "CreateJob              int64\n",
       "RetainedJob            int64\n",
       "FranchiseCode          int64\n",
       "UrbanRural             int64\n",
       "RevLineCr             object\n",
       "LowDoc                object\n",
       "ChgOffDate            object\n",
       "DisbursementDate      object\n",
       "DisbursementGross     object\n",
       "BalanceGross          object\n",
       "MIS_Status            object\n",
       "ChgOffPrinGr          object\n",
       "GrAppv                object\n",
       "SBA_Appv              object\n",
       "dtype: object"
      ]
     },
     "execution_count": 105,
     "metadata": {},
     "output_type": "execute_result"
    }
   ],
   "source": [
    "df_Loan.dtypes"
   ]
  },
  {
   "cell_type": "markdown",
   "id": "624189eb",
   "metadata": {},
   "source": [
    "### Data Preparation and Analysis \n",
    "\n",
    "#### Data Cleaning\n",
    "Before building the models, we have cleaned the dataset to prepare it for analysis. \n",
    "- To begin with, we have identified and eliminated the null values instead of imputing values as the dataset is very huge and calculating the values to be imputed is very difficult\n",
    "- We have checked the datatypes of features and assigned them the appropriate data type.\n",
    "- We have corrected inconsistent/incorrect data entries\n",
    "- We have scaled the data as we are dealing with huge numbers\n",
    "\n",
    "#### Data Analysis\n",
    "We have created boxplots, bar charts and correlation matrix to describe the data and understand the features better."
   ]
  },
  {
   "cell_type": "code",
   "execution_count": 4,
   "id": "865c8348",
   "metadata": {},
   "outputs": [
    {
     "data": {
      "text/plain": [
       "LoanNr_ChkDgt             0\n",
       "Name                     14\n",
       "City                     30\n",
       "State                    14\n",
       "Zip                       0\n",
       "Bank                   1559\n",
       "BankState              1566\n",
       "NAICS                     0\n",
       "ApprovalDate              0\n",
       "ApprovalFY                0\n",
       "Term                      0\n",
       "NoEmp                     0\n",
       "NewExist                136\n",
       "CreateJob                 0\n",
       "RetainedJob               0\n",
       "FranchiseCode             0\n",
       "UrbanRural                0\n",
       "RevLineCr              4528\n",
       "LowDoc                 2582\n",
       "ChgOffDate           736465\n",
       "DisbursementDate       2368\n",
       "DisbursementGross         0\n",
       "BalanceGross              0\n",
       "MIS_Status             1997\n",
       "ChgOffPrinGr              0\n",
       "GrAppv                    0\n",
       "SBA_Appv                  0\n",
       "dtype: int64"
      ]
     },
     "execution_count": 4,
     "metadata": {},
     "output_type": "execute_result"
    }
   ],
   "source": [
    "df_Loan.isnull().sum()"
   ]
  },
  {
   "cell_type": "code",
   "execution_count": 5,
   "id": "5d40b0ca",
   "metadata": {},
   "outputs": [
    {
     "data": {
      "text/plain": [
       "LoanNr_ChkDgt             0\n",
       "Name                      0\n",
       "City                      0\n",
       "State                     0\n",
       "Zip                       0\n",
       "Bank                      0\n",
       "BankState                 0\n",
       "NAICS                     0\n",
       "ApprovalDate              0\n",
       "ApprovalFY                0\n",
       "Term                      0\n",
       "NoEmp                     0\n",
       "NewExist                  0\n",
       "CreateJob                 0\n",
       "RetainedJob               0\n",
       "FranchiseCode             0\n",
       "UrbanRural                0\n",
       "RevLineCr                 0\n",
       "LowDoc                    0\n",
       "ChgOffDate           725369\n",
       "DisbursementDate          0\n",
       "DisbursementGross         0\n",
       "BalanceGross              0\n",
       "MIS_Status                0\n",
       "ChgOffPrinGr              0\n",
       "GrAppv                    0\n",
       "SBA_Appv                  0\n",
       "dtype: int64"
      ]
     },
     "execution_count": 5,
     "metadata": {},
     "output_type": "execute_result"
    }
   ],
   "source": [
    "df_Loan.dropna(subset=['Name', 'City', 'State', 'BankState', 'NewExist', 'RevLineCr', 'LowDoc', \n",
    "                       'DisbursementDate', 'MIS_Status'], inplace=True)\n",
    "\n",
    "df_Loan.isnull().sum()"
   ]
  },
  {
   "cell_type": "markdown",
   "id": "2ab5f8e0",
   "metadata": {},
   "source": [
    "Checking the datatypes for each feature"
   ]
  },
  {
   "cell_type": "code",
   "execution_count": 108,
   "id": "85f5f374",
   "metadata": {},
   "outputs": [
    {
     "data": {
      "text/plain": [
       "LoanNr_ChkDgt          int64\n",
       "Name                  object\n",
       "City                  object\n",
       "State                 object\n",
       "Zip                    int64\n",
       "Bank                  object\n",
       "BankState             object\n",
       "NAICS                  int64\n",
       "ApprovalDate          object\n",
       "ApprovalFY            object\n",
       "Term                   int64\n",
       "NoEmp                  int64\n",
       "NewExist             float64\n",
       "CreateJob              int64\n",
       "RetainedJob            int64\n",
       "FranchiseCode          int64\n",
       "UrbanRural             int64\n",
       "RevLineCr             object\n",
       "LowDoc                object\n",
       "ChgOffDate            object\n",
       "DisbursementDate      object\n",
       "DisbursementGross     object\n",
       "BalanceGross          object\n",
       "MIS_Status            object\n",
       "ChgOffPrinGr          object\n",
       "GrAppv                object\n",
       "SBA_Appv              object\n",
       "dtype: object"
      ]
     },
     "execution_count": 108,
     "metadata": {},
     "output_type": "execute_result"
    }
   ],
   "source": [
    "df_Loan.dtypes"
   ]
  },
  {
   "cell_type": "code",
   "execution_count": 6,
   "id": "769891d4",
   "metadata": {},
   "outputs": [],
   "source": [
    "df_Loan[['ApprovalDate', 'DisbursementDate']] = df_Loan[['ApprovalDate', 'DisbursementDate']].apply(pd.to_datetime)\n"
   ]
  },
  {
   "cell_type": "code",
   "execution_count": 7,
   "id": "378e31f9",
   "metadata": {},
   "outputs": [],
   "source": [
    "def edit_str(x):\n",
    "    if isinstance(x, str):\n",
    "        return x.replace('$', '').replace(',', '')\n",
    "    return x\n",
    "\n",
    "\n",
    "\n",
    "df_Loan['DisbursementGross'] = df_Loan['DisbursementGross'].apply(edit_str)\n",
    "df_Loan['BalanceGross'] = df_Loan['BalanceGross'].apply(edit_str)\n",
    "df_Loan['ChgOffPrinGr'] = df_Loan['ChgOffPrinGr'].apply(edit_str)\n",
    "df_Loan['GrAppv'] = df_Loan['GrAppv'].apply(edit_str)\n",
    "df_Loan['SBA_Appv'] = df_Loan['SBA_Appv'].apply(edit_str)\n",
    "\n",
    "\n",
    "df_Loan = df_Loan.astype({'DisbursementGross': 'float', 'BalanceGross': 'float','ChgOffPrinGr': 'float', 'GrAppv': 'float', 'SBA_Appv': 'float'})"
   ]
  },
  {
   "cell_type": "code",
   "execution_count": 111,
   "id": "e1366799",
   "metadata": {},
   "outputs": [
    {
     "data": {
      "text/plain": [
       "array([1997, 1980, 2006, 1998, 1999, 2000, 2001, 1972, 2003, 2004, 1978,\n",
       "       1979, 1981, 2005, 1982, 1983, 1973, 1984, 2007, 1985, 1986, 1987,\n",
       "       2008, 1988, 2009, 1989, 1991, 1990, 1974, 2010, 2011, 1992, 1993,\n",
       "       2002, 2012, 2013, 1994, 2014, 1975, 1977, 1976, '2004', '1994',\n",
       "       '1979', '1976', '1975', '1974', '1977', '1981', '1982', '1983',\n",
       "       '1984', '1978', '1980', '1968', '1976A', '1969', '1995', '1970',\n",
       "       '2005', '1996', '1971', 1996, 1971], dtype=object)"
      ]
     },
     "execution_count": 111,
     "metadata": {},
     "output_type": "execute_result"
    }
   ],
   "source": [
    "df_Loan['ApprovalFY'].unique()"
   ]
  },
  {
   "cell_type": "code",
   "execution_count": 8,
   "id": "1af95d73",
   "metadata": {},
   "outputs": [],
   "source": [
    "def clean_year_str(x):\n",
    "    if isinstance(x, str):\n",
    "        return x.replace('A', '')\n",
    "    return x\n",
    "\n",
    "df_Loan['ApprovalFY'] = df_Loan['ApprovalFY'].apply(clean_year_str)\n",
    "\n",
    "df_Loan = df_Loan.astype({'ApprovalFY': 'int64'})"
   ]
  },
  {
   "cell_type": "code",
   "execution_count": 113,
   "id": "b2101b1c",
   "metadata": {},
   "outputs": [
    {
     "data": {
      "text/plain": [
       "array([1997, 1980, 2006, 1998, 1999, 2000, 2001, 1972, 2003, 2004, 1978,\n",
       "       1979, 1981, 2005, 1982, 1983, 1973, 1984, 2007, 1985, 1986, 1987,\n",
       "       2008, 1988, 2009, 1989, 1991, 1990, 1974, 2010, 2011, 1992, 1993,\n",
       "       2002, 2012, 2013, 1994, 2014, 1975, 1977, 1976, 1968, 1969, 1995,\n",
       "       1970, 1996, 1971], dtype=int64)"
      ]
     },
     "execution_count": 113,
     "metadata": {},
     "output_type": "execute_result"
    }
   ],
   "source": [
    "df_Loan['ApprovalFY'].unique()"
   ]
  },
  {
   "cell_type": "markdown",
   "id": "de7d56c0",
   "metadata": {},
   "source": [
    "Checking the data types of each feature again after modification"
   ]
  },
  {
   "cell_type": "code",
   "execution_count": 114,
   "id": "ba9bcd79",
   "metadata": {},
   "outputs": [
    {
     "data": {
      "text/plain": [
       "LoanNr_ChkDgt                 int64\n",
       "Name                         object\n",
       "City                         object\n",
       "State                        object\n",
       "Zip                           int64\n",
       "Bank                         object\n",
       "BankState                    object\n",
       "NAICS                         int64\n",
       "ApprovalDate         datetime64[ns]\n",
       "ApprovalFY                    int64\n",
       "Term                          int64\n",
       "NoEmp                         int64\n",
       "NewExist                    float64\n",
       "CreateJob                     int64\n",
       "RetainedJob                   int64\n",
       "FranchiseCode                 int64\n",
       "UrbanRural                    int64\n",
       "RevLineCr                    object\n",
       "LowDoc                       object\n",
       "ChgOffDate                   object\n",
       "DisbursementDate     datetime64[ns]\n",
       "DisbursementGross           float64\n",
       "BalanceGross                float64\n",
       "MIS_Status                   object\n",
       "ChgOffPrinGr                float64\n",
       "GrAppv                      float64\n",
       "SBA_Appv                    float64\n",
       "dtype: object"
      ]
     },
     "execution_count": 114,
     "metadata": {},
     "output_type": "execute_result"
    }
   ],
   "source": [
    "df_Loan.dtypes"
   ]
  },
  {
   "cell_type": "code",
   "execution_count": 118,
   "id": "07bcaade",
   "metadata": {},
   "outputs": [
    {
     "data": {
      "text/html": [
       "<div>\n",
       "<style scoped>\n",
       "    .dataframe tbody tr th:only-of-type {\n",
       "        vertical-align: middle;\n",
       "    }\n",
       "\n",
       "    .dataframe tbody tr th {\n",
       "        vertical-align: top;\n",
       "    }\n",
       "\n",
       "    .dataframe thead th {\n",
       "        text-align: right;\n",
       "    }\n",
       "</style>\n",
       "<table border=\"1\" class=\"dataframe\">\n",
       "  <thead>\n",
       "    <tr style=\"text-align: right;\">\n",
       "      <th></th>\n",
       "      <th>NewExist</th>\n",
       "      <th>DisbursementGross</th>\n",
       "      <th>BalanceGross</th>\n",
       "      <th>ChgOffPrinGr</th>\n",
       "      <th>GrAppv</th>\n",
       "      <th>SBA_Appv</th>\n",
       "    </tr>\n",
       "  </thead>\n",
       "  <tbody>\n",
       "    <tr>\n",
       "      <th>count</th>\n",
       "      <td>886240.000000</td>\n",
       "      <td>8.862400e+05</td>\n",
       "      <td>886240.000000</td>\n",
       "      <td>8.862400e+05</td>\n",
       "      <td>8.862400e+05</td>\n",
       "      <td>8.862400e+05</td>\n",
       "    </tr>\n",
       "    <tr>\n",
       "      <th>mean</th>\n",
       "      <td>1.279900</td>\n",
       "      <td>2.021419e+05</td>\n",
       "      <td>3.032943</td>\n",
       "      <td>1.359378e+04</td>\n",
       "      <td>1.934997e+05</td>\n",
       "      <td>1.499839e+05</td>\n",
       "    </tr>\n",
       "    <tr>\n",
       "      <th>std</th>\n",
       "      <td>0.451509</td>\n",
       "      <td>2.879380e+05</td>\n",
       "      <td>1452.639312</td>\n",
       "      <td>6.546616e+04</td>\n",
       "      <td>2.835053e+05</td>\n",
       "      <td>2.281694e+05</td>\n",
       "    </tr>\n",
       "    <tr>\n",
       "      <th>min</th>\n",
       "      <td>0.000000</td>\n",
       "      <td>4.000000e+03</td>\n",
       "      <td>0.000000</td>\n",
       "      <td>0.000000e+00</td>\n",
       "      <td>1.000000e+03</td>\n",
       "      <td>5.000000e+02</td>\n",
       "    </tr>\n",
       "    <tr>\n",
       "      <th>25%</th>\n",
       "      <td>1.000000</td>\n",
       "      <td>4.283700e+04</td>\n",
       "      <td>0.000000</td>\n",
       "      <td>0.000000e+00</td>\n",
       "      <td>3.500000e+04</td>\n",
       "      <td>2.125000e+04</td>\n",
       "    </tr>\n",
       "    <tr>\n",
       "      <th>50%</th>\n",
       "      <td>1.000000</td>\n",
       "      <td>1.000000e+05</td>\n",
       "      <td>0.000000</td>\n",
       "      <td>0.000000e+00</td>\n",
       "      <td>9.000000e+04</td>\n",
       "      <td>6.212550e+04</td>\n",
       "    </tr>\n",
       "    <tr>\n",
       "      <th>75%</th>\n",
       "      <td>2.000000</td>\n",
       "      <td>2.400000e+05</td>\n",
       "      <td>0.000000</td>\n",
       "      <td>0.000000e+00</td>\n",
       "      <td>2.270000e+05</td>\n",
       "      <td>1.750000e+05</td>\n",
       "    </tr>\n",
       "    <tr>\n",
       "      <th>max</th>\n",
       "      <td>2.000000</td>\n",
       "      <td>1.144632e+07</td>\n",
       "      <td>996262.000000</td>\n",
       "      <td>3.512596e+06</td>\n",
       "      <td>5.000000e+06</td>\n",
       "      <td>4.500000e+06</td>\n",
       "    </tr>\n",
       "  </tbody>\n",
       "</table>\n",
       "</div>"
      ],
      "text/plain": [
       "            NewExist  DisbursementGross   BalanceGross  ChgOffPrinGr  \\\n",
       "count  886240.000000       8.862400e+05  886240.000000  8.862400e+05   \n",
       "mean        1.279900       2.021419e+05       3.032943  1.359378e+04   \n",
       "std         0.451509       2.879380e+05    1452.639312  6.546616e+04   \n",
       "min         0.000000       4.000000e+03       0.000000  0.000000e+00   \n",
       "25%         1.000000       4.283700e+04       0.000000  0.000000e+00   \n",
       "50%         1.000000       1.000000e+05       0.000000  0.000000e+00   \n",
       "75%         2.000000       2.400000e+05       0.000000  0.000000e+00   \n",
       "max         2.000000       1.144632e+07  996262.000000  3.512596e+06   \n",
       "\n",
       "             GrAppv      SBA_Appv  \n",
       "count  8.862400e+05  8.862400e+05  \n",
       "mean   1.934997e+05  1.499839e+05  \n",
       "std    2.835053e+05  2.281694e+05  \n",
       "min    1.000000e+03  5.000000e+02  \n",
       "25%    3.500000e+04  2.125000e+04  \n",
       "50%    9.000000e+04  6.212550e+04  \n",
       "75%    2.270000e+05  1.750000e+05  \n",
       "max    5.000000e+06  4.500000e+06  "
      ]
     },
     "execution_count": 118,
     "metadata": {},
     "output_type": "execute_result"
    }
   ],
   "source": [
    "\n",
    "df_Loan.describe(include=['float'])"
   ]
  },
  {
   "cell_type": "markdown",
   "id": "cb77fcdd",
   "metadata": {},
   "source": [
    "Let us explore the numerical features of our dataset that represent the loan amounts using boxplot"
   ]
  },
  {
   "cell_type": "code",
   "execution_count": 9,
   "id": "5230d1af",
   "metadata": {},
   "outputs": [
    {
     "data": {
      "image/png": "[encoded data removed]",
      "text/plain": [
       "<Figure size 1440x720 with 1 Axes>"
      ]
     },
     "metadata": {
      "needs_background": "light"
     },
     "output_type": "display_data"
    }
   ],
   "source": [
    "amount_data=['DisbursementGross', 'GrAppv', 'SBA_Appv']\n",
    "\n",
    "\n",
    "sns.boxplot(data=df_Loan[amount_data], palette=\"Set2\",showfliers=False)\n",
    "fig=plt.gcf()\n",
    "fig.set_size_inches(20,10)"
   ]
  },
  {
   "cell_type": "markdown",
   "id": "9e9055dd",
   "metadata": {},
   "source": [
    "Now, we will scale the numerical features in the dataset."
   ]
  },
  {
   "cell_type": "code",
   "execution_count": 10,
   "id": "dc078a6f",
   "metadata": {},
   "outputs": [
    {
     "ename": "NameError",
     "evalue": "name 'numerical_features' is not defined",
     "output_type": "error",
     "traceback": [
      "\u001b[1;31m---------------------------------------------------------------------------\u001b[0m",
      "\u001b[1;31mNameError\u001b[0m                                 Traceback (most recent call last)",
      "\u001b[1;32m<ipython-input-10-331044f73ca4>\u001b[0m in \u001b[0;36m<module>\u001b[1;34m\u001b[0m\n\u001b[0;32m      3\u001b[0m \u001b[1;31m#Scale the feature values prior to modeling\u001b[0m\u001b[1;33m\u001b[0m\u001b[1;33m\u001b[0m\u001b[1;33m\u001b[0m\u001b[0m\n\u001b[0;32m      4\u001b[0m \u001b[1;33m\u001b[0m\u001b[0m\n\u001b[1;32m----> 5\u001b[1;33m \u001b[0mdf_Loan\u001b[0m\u001b[1;33m[\u001b[0m\u001b[0mnumerical_features\u001b[0m\u001b[1;33m]\u001b[0m\u001b[1;33m=\u001b[0m\u001b[0mMinMaxScaler\u001b[0m\u001b[1;33m(\u001b[0m\u001b[1;33m)\u001b[0m\u001b[1;33m.\u001b[0m\u001b[0mfit_transform\u001b[0m\u001b[1;33m(\u001b[0m\u001b[0mdf_Loan\u001b[0m\u001b[1;33m[\u001b[0m\u001b[0mnumerical_features\u001b[0m\u001b[1;33m]\u001b[0m\u001b[1;33m)\u001b[0m\u001b[1;33m\u001b[0m\u001b[1;33m\u001b[0m\u001b[0m\n\u001b[0m",
      "\u001b[1;31mNameError\u001b[0m: name 'numerical_features' is not defined"
     ]
    }
   ],
   "source": [
    "from sklearn.preprocessing import StandardScaler, MinMaxScaler\n",
    "\n",
    "#Scale the feature values prior to modeling\n",
    "\n",
    "df_Loan[numerical_features]=MinMaxScaler().fit_transform(df_Loan[numerical_features])"
   ]
  },
  {
   "cell_type": "code",
   "execution_count": 121,
   "id": "08b023f3",
   "metadata": {},
   "outputs": [
    {
     "data": {
      "text/html": [
       "<div>\n",
       "<style scoped>\n",
       "    .dataframe tbody tr th:only-of-type {\n",
       "        vertical-align: middle;\n",
       "    }\n",
       "\n",
       "    .dataframe tbody tr th {\n",
       "        vertical-align: top;\n",
       "    }\n",
       "\n",
       "    .dataframe thead th {\n",
       "        text-align: right;\n",
       "    }\n",
       "</style>\n",
       "<table border=\"1\" class=\"dataframe\">\n",
       "  <thead>\n",
       "    <tr style=\"text-align: right;\">\n",
       "      <th></th>\n",
       "      <th>NewExist</th>\n",
       "      <th>DisbursementGross</th>\n",
       "      <th>BalanceGross</th>\n",
       "      <th>ChgOffPrinGr</th>\n",
       "      <th>GrAppv</th>\n",
       "      <th>SBA_Appv</th>\n",
       "    </tr>\n",
       "  </thead>\n",
       "  <tbody>\n",
       "    <tr>\n",
       "      <th>count</th>\n",
       "      <td>886240.000000</td>\n",
       "      <td>886240.000000</td>\n",
       "      <td>886240.000000</td>\n",
       "      <td>886240.000000</td>\n",
       "      <td>886240.000000</td>\n",
       "      <td>886240.000000</td>\n",
       "    </tr>\n",
       "    <tr>\n",
       "      <th>mean</th>\n",
       "      <td>1.279900</td>\n",
       "      <td>0.017317</td>\n",
       "      <td>0.000003</td>\n",
       "      <td>0.003870</td>\n",
       "      <td>0.038508</td>\n",
       "      <td>0.033222</td>\n",
       "    </tr>\n",
       "    <tr>\n",
       "      <th>std</th>\n",
       "      <td>0.451509</td>\n",
       "      <td>0.025164</td>\n",
       "      <td>0.001458</td>\n",
       "      <td>0.018638</td>\n",
       "      <td>0.056712</td>\n",
       "      <td>0.050710</td>\n",
       "    </tr>\n",
       "    <tr>\n",
       "      <th>min</th>\n",
       "      <td>0.000000</td>\n",
       "      <td>0.000000</td>\n",
       "      <td>0.000000</td>\n",
       "      <td>0.000000</td>\n",
       "      <td>0.000000</td>\n",
       "      <td>0.000000</td>\n",
       "    </tr>\n",
       "    <tr>\n",
       "      <th>25%</th>\n",
       "      <td>1.000000</td>\n",
       "      <td>0.003394</td>\n",
       "      <td>0.000000</td>\n",
       "      <td>0.000000</td>\n",
       "      <td>0.006801</td>\n",
       "      <td>0.004612</td>\n",
       "    </tr>\n",
       "    <tr>\n",
       "      <th>50%</th>\n",
       "      <td>1.000000</td>\n",
       "      <td>0.008390</td>\n",
       "      <td>0.000000</td>\n",
       "      <td>0.000000</td>\n",
       "      <td>0.017804</td>\n",
       "      <td>0.013696</td>\n",
       "    </tr>\n",
       "    <tr>\n",
       "      <th>75%</th>\n",
       "      <td>2.000000</td>\n",
       "      <td>0.020625</td>\n",
       "      <td>0.000000</td>\n",
       "      <td>0.000000</td>\n",
       "      <td>0.045209</td>\n",
       "      <td>0.038782</td>\n",
       "    </tr>\n",
       "    <tr>\n",
       "      <th>max</th>\n",
       "      <td>2.000000</td>\n",
       "      <td>1.000000</td>\n",
       "      <td>1.000000</td>\n",
       "      <td>1.000000</td>\n",
       "      <td>1.000000</td>\n",
       "      <td>1.000000</td>\n",
       "    </tr>\n",
       "  </tbody>\n",
       "</table>\n",
       "</div>"
      ],
      "text/plain": [
       "            NewExist  DisbursementGross   BalanceGross   ChgOffPrinGr  \\\n",
       "count  886240.000000      886240.000000  886240.000000  886240.000000   \n",
       "mean        1.279900           0.017317       0.000003       0.003870   \n",
       "std         0.451509           0.025164       0.001458       0.018638   \n",
       "min         0.000000           0.000000       0.000000       0.000000   \n",
       "25%         1.000000           0.003394       0.000000       0.000000   \n",
       "50%         1.000000           0.008390       0.000000       0.000000   \n",
       "75%         2.000000           0.020625       0.000000       0.000000   \n",
       "max         2.000000           1.000000       1.000000       1.000000   \n",
       "\n",
       "              GrAppv       SBA_Appv  \n",
       "count  886240.000000  886240.000000  \n",
       "mean        0.038508       0.033222  \n",
       "std         0.056712       0.050710  \n",
       "min         0.000000       0.000000  \n",
       "25%         0.006801       0.004612  \n",
       "50%         0.017804       0.013696  \n",
       "75%         0.045209       0.038782  \n",
       "max         1.000000       1.000000  "
      ]
     },
     "execution_count": 121,
     "metadata": {},
     "output_type": "execute_result"
    }
   ],
   "source": [
    "df_Loan.describe(include=['float'])"
   ]
  },
  {
   "cell_type": "markdown",
   "id": "1146eac0",
   "metadata": {},
   "source": [
    "### Feature Engineering\n",
    "\n",
    "Here we are creating traget variable based on the exisitng feature \"MIS Status\". In addition, we are also creating dummy variables for categorical features. \n",
    "We have also dropped unwanted features that add no value to the analysis."
   ]
  },
  {
   "cell_type": "code",
   "execution_count": 11,
   "id": "9f2f18d9",
   "metadata": {},
   "outputs": [
    {
     "data": {
      "text/html": [
       "<div>\n",
       "<style scoped>\n",
       "    .dataframe tbody tr th:only-of-type {\n",
       "        vertical-align: middle;\n",
       "    }\n",
       "\n",
       "    .dataframe tbody tr th {\n",
       "        vertical-align: top;\n",
       "    }\n",
       "\n",
       "    .dataframe thead th {\n",
       "        text-align: right;\n",
       "    }\n",
       "</style>\n",
       "<table border=\"1\" class=\"dataframe\">\n",
       "  <thead>\n",
       "    <tr style=\"text-align: right;\">\n",
       "      <th></th>\n",
       "      <th>LoanNr_ChkDgt</th>\n",
       "      <th>Name</th>\n",
       "      <th>City</th>\n",
       "      <th>State</th>\n",
       "      <th>Zip</th>\n",
       "      <th>Bank</th>\n",
       "      <th>BankState</th>\n",
       "      <th>NAICS</th>\n",
       "      <th>ApprovalDate</th>\n",
       "      <th>ApprovalFY</th>\n",
       "      <th>...</th>\n",
       "      <th>LowDoc</th>\n",
       "      <th>ChgOffDate</th>\n",
       "      <th>DisbursementDate</th>\n",
       "      <th>DisbursementGross</th>\n",
       "      <th>BalanceGross</th>\n",
       "      <th>MIS_Status</th>\n",
       "      <th>ChgOffPrinGr</th>\n",
       "      <th>GrAppv</th>\n",
       "      <th>SBA_Appv</th>\n",
       "      <th>Default</th>\n",
       "    </tr>\n",
       "  </thead>\n",
       "  <tbody>\n",
       "    <tr>\n",
       "      <th>0</th>\n",
       "      <td>1000014003</td>\n",
       "      <td>ABC HOBBYCRAFT</td>\n",
       "      <td>EVANSVILLE</td>\n",
       "      <td>IN</td>\n",
       "      <td>47711</td>\n",
       "      <td>FIFTH THIRD BANK</td>\n",
       "      <td>OH</td>\n",
       "      <td>451120</td>\n",
       "      <td>1997-02-28</td>\n",
       "      <td>1997</td>\n",
       "      <td>...</td>\n",
       "      <td>Y</td>\n",
       "      <td>NaN</td>\n",
       "      <td>1999-02-28</td>\n",
       "      <td>60000.0</td>\n",
       "      <td>0.0</td>\n",
       "      <td>P I F</td>\n",
       "      <td>0.0</td>\n",
       "      <td>60000.0</td>\n",
       "      <td>48000.0</td>\n",
       "      <td>0</td>\n",
       "    </tr>\n",
       "    <tr>\n",
       "      <th>1</th>\n",
       "      <td>1000024006</td>\n",
       "      <td>LANDMARK BAR &amp; GRILLE (THE)</td>\n",
       "      <td>NEW PARIS</td>\n",
       "      <td>IN</td>\n",
       "      <td>46526</td>\n",
       "      <td>1ST SOURCE BANK</td>\n",
       "      <td>IN</td>\n",
       "      <td>722410</td>\n",
       "      <td>1997-02-28</td>\n",
       "      <td>1997</td>\n",
       "      <td>...</td>\n",
       "      <td>Y</td>\n",
       "      <td>NaN</td>\n",
       "      <td>1997-05-31</td>\n",
       "      <td>40000.0</td>\n",
       "      <td>0.0</td>\n",
       "      <td>P I F</td>\n",
       "      <td>0.0</td>\n",
       "      <td>40000.0</td>\n",
       "      <td>32000.0</td>\n",
       "      <td>0</td>\n",
       "    </tr>\n",
       "    <tr>\n",
       "      <th>2</th>\n",
       "      <td>1000034009</td>\n",
       "      <td>WHITLOCK DDS, TODD M.</td>\n",
       "      <td>BLOOMINGTON</td>\n",
       "      <td>IN</td>\n",
       "      <td>47401</td>\n",
       "      <td>GRANT COUNTY STATE BANK</td>\n",
       "      <td>IN</td>\n",
       "      <td>621210</td>\n",
       "      <td>1997-02-28</td>\n",
       "      <td>1997</td>\n",
       "      <td>...</td>\n",
       "      <td>N</td>\n",
       "      <td>NaN</td>\n",
       "      <td>1997-12-31</td>\n",
       "      <td>287000.0</td>\n",
       "      <td>0.0</td>\n",
       "      <td>P I F</td>\n",
       "      <td>0.0</td>\n",
       "      <td>287000.0</td>\n",
       "      <td>215250.0</td>\n",
       "      <td>0</td>\n",
       "    </tr>\n",
       "    <tr>\n",
       "      <th>3</th>\n",
       "      <td>1000044001</td>\n",
       "      <td>BIG BUCKS PAWN &amp; JEWELRY, LLC</td>\n",
       "      <td>BROKEN ARROW</td>\n",
       "      <td>OK</td>\n",
       "      <td>74012</td>\n",
       "      <td>1ST NATL BK &amp; TR CO OF BROKEN</td>\n",
       "      <td>OK</td>\n",
       "      <td>0</td>\n",
       "      <td>1997-02-28</td>\n",
       "      <td>1997</td>\n",
       "      <td>...</td>\n",
       "      <td>Y</td>\n",
       "      <td>NaN</td>\n",
       "      <td>1997-06-30</td>\n",
       "      <td>35000.0</td>\n",
       "      <td>0.0</td>\n",
       "      <td>P I F</td>\n",
       "      <td>0.0</td>\n",
       "      <td>35000.0</td>\n",
       "      <td>28000.0</td>\n",
       "      <td>0</td>\n",
       "    </tr>\n",
       "    <tr>\n",
       "      <th>4</th>\n",
       "      <td>1000054004</td>\n",
       "      <td>ANASTASIA CONFECTIONS, INC.</td>\n",
       "      <td>ORLANDO</td>\n",
       "      <td>FL</td>\n",
       "      <td>32801</td>\n",
       "      <td>FLORIDA BUS. DEVEL CORP</td>\n",
       "      <td>FL</td>\n",
       "      <td>0</td>\n",
       "      <td>1997-02-28</td>\n",
       "      <td>1997</td>\n",
       "      <td>...</td>\n",
       "      <td>N</td>\n",
       "      <td>NaN</td>\n",
       "      <td>1997-05-14</td>\n",
       "      <td>229000.0</td>\n",
       "      <td>0.0</td>\n",
       "      <td>P I F</td>\n",
       "      <td>0.0</td>\n",
       "      <td>229000.0</td>\n",
       "      <td>229000.0</td>\n",
       "      <td>0</td>\n",
       "    </tr>\n",
       "  </tbody>\n",
       "</table>\n",
       "<p>5 rows × 28 columns</p>\n",
       "</div>"
      ],
      "text/plain": [
       "   LoanNr_ChkDgt                           Name          City State    Zip  \\\n",
       "0     1000014003                 ABC HOBBYCRAFT    EVANSVILLE    IN  47711   \n",
       "1     1000024006    LANDMARK BAR & GRILLE (THE)     NEW PARIS    IN  46526   \n",
       "2     1000034009          WHITLOCK DDS, TODD M.   BLOOMINGTON    IN  47401   \n",
       "3     1000044001  BIG BUCKS PAWN & JEWELRY, LLC  BROKEN ARROW    OK  74012   \n",
       "4     1000054004    ANASTASIA CONFECTIONS, INC.       ORLANDO    FL  32801   \n",
       "\n",
       "                            Bank BankState   NAICS ApprovalDate  ApprovalFY  \\\n",
       "0               FIFTH THIRD BANK        OH  451120   1997-02-28        1997   \n",
       "1                1ST SOURCE BANK        IN  722410   1997-02-28        1997   \n",
       "2        GRANT COUNTY STATE BANK        IN  621210   1997-02-28        1997   \n",
       "3  1ST NATL BK & TR CO OF BROKEN        OK       0   1997-02-28        1997   \n",
       "4        FLORIDA BUS. DEVEL CORP        FL       0   1997-02-28        1997   \n",
       "\n",
       "   ...  LowDoc  ChgOffDate  DisbursementDate  DisbursementGross  BalanceGross  \\\n",
       "0  ...       Y         NaN        1999-02-28            60000.0           0.0   \n",
       "1  ...       Y         NaN        1997-05-31            40000.0           0.0   \n",
       "2  ...       N         NaN        1997-12-31           287000.0           0.0   \n",
       "3  ...       Y         NaN        1997-06-30            35000.0           0.0   \n",
       "4  ...       N         NaN        1997-05-14           229000.0           0.0   \n",
       "\n",
       "   MIS_Status  ChgOffPrinGr    GrAppv  SBA_Appv Default  \n",
       "0       P I F           0.0   60000.0   48000.0       0  \n",
       "1       P I F           0.0   40000.0   32000.0       0  \n",
       "2       P I F           0.0  287000.0  215250.0       0  \n",
       "3       P I F           0.0   35000.0   28000.0       0  \n",
       "4       P I F           0.0  229000.0  229000.0       0  \n",
       "\n",
       "[5 rows x 28 columns]"
      ]
     },
     "execution_count": 11,
     "metadata": {},
     "output_type": "execute_result"
    }
   ],
   "source": [
    "# Build the target variable based on the MIS Status\n",
    "# 0 = PIF(Paid in Full)\n",
    "# 1 = CF(Charged Off)\n",
    "\n",
    "df_Loan['Default'] = np.where(df_Loan['MIS_Status'] == 'P I F', 0, 1)\n",
    "\n",
    "df_Loan.head()"
   ]
  },
  {
   "cell_type": "code",
   "execution_count": 12,
   "id": "265e6976",
   "metadata": {},
   "outputs": [
    {
     "data": {
      "text/plain": [
       "array([2., 1., 0.])"
      ]
     },
     "execution_count": 12,
     "metadata": {},
     "output_type": "execute_result"
    }
   ],
   "source": [
    "#1 = Existing business, 2 = New business\n",
    "df_Loan['NewExist'].unique()"
   ]
  },
  {
   "cell_type": "code",
   "execution_count": 13,
   "id": "b50e91f3",
   "metadata": {},
   "outputs": [
    {
     "data": {
      "text/plain": [
       "array(['N', '0', 'Y', 'T', '`', ',', '1', 'C', '3', '2', 'R', '7', 'A',\n",
       "       '5', '.', '4', '-', 'Q'], dtype=object)"
      ]
     },
     "execution_count": 13,
     "metadata": {},
     "output_type": "execute_result"
    }
   ],
   "source": [
    "#Revolving line of credit: Y = Yes, N = No\n",
    "df_Loan['RevLineCr'].unique()\n"
   ]
  },
  {
   "cell_type": "code",
   "execution_count": 14,
   "id": "7ed9cbd3",
   "metadata": {},
   "outputs": [
    {
     "data": {
      "text/plain": [
       "array(['N', 'Y'], dtype=object)"
      ]
     },
     "execution_count": 14,
     "metadata": {},
     "output_type": "execute_result"
    }
   ],
   "source": [
    "df_Loan = df_Loan.query(\"RevLineCr in ['Y', 'N']\")\n",
    "df_Loan['RevLineCr'].unique()"
   ]
  },
  {
   "cell_type": "code",
   "execution_count": 15,
   "id": "4e21bd47",
   "metadata": {},
   "outputs": [
    {
     "data": {
      "text/plain": [
       "array(['Y', 'N', 'C', '1', 'S', 'R', 'A', '0'], dtype=object)"
      ]
     },
     "execution_count": 15,
     "metadata": {},
     "output_type": "execute_result"
    }
   ],
   "source": [
    "#LowDoc Loan Program: Y = Yes, N = No\n",
    "df_Loan['LowDoc'].unique()"
   ]
  },
  {
   "cell_type": "code",
   "execution_count": 16,
   "id": "e525c7eb",
   "metadata": {},
   "outputs": [
    {
     "data": {
      "text/plain": [
       "array(['Y', 'N'], dtype=object)"
      ]
     },
     "execution_count": 16,
     "metadata": {},
     "output_type": "execute_result"
    }
   ],
   "source": [
    "df_Loan = df_Loan.query(\"LowDoc in ['Y', 'N']\")\n",
    "df_Loan['LowDoc'].unique()"
   ]
  },
  {
   "cell_type": "code",
   "execution_count": 17,
   "id": "78b3462f",
   "metadata": {},
   "outputs": [
    {
     "data": {
      "text/plain": [
       "array([0, 1, 2], dtype=int64)"
      ]
     },
     "execution_count": 17,
     "metadata": {},
     "output_type": "execute_result"
    }
   ],
   "source": [
    "#1 = Urban, 2 = rural, 0 = undefined\n",
    "df_Loan['UrbanRural'].unique()"
   ]
  },
  {
   "cell_type": "code",
   "execution_count": 18,
   "id": "cbc57a04",
   "metadata": {},
   "outputs": [
    {
     "data": {
      "text/plain": [
       "array(['OH', 'IN', 'OK', 'FL', 'DE', 'SD', 'AL', 'CT', 'GA', 'OR', 'MN',\n",
       "       'RI', 'NC', 'TX', 'MD', 'NY', 'TN', 'SC', 'MS', 'MA', 'LA', 'IA',\n",
       "       'VA', 'PA', 'MO', 'CA', 'UT', 'IL', 'KS', 'MI', 'WV', 'WI', 'CO',\n",
       "       'ME', 'NH', 'AR', 'ND', 'MT', 'ID', 'KY', 'NM', 'WA', 'NV', 'DC',\n",
       "       'NE', 'NJ', 'WY', 'AZ', 'PR', 'HI', 'VT', 'AK', 'GU', 'AN', 'EN'],\n",
       "      dtype=object)"
      ]
     },
     "execution_count": 18,
     "metadata": {},
     "output_type": "execute_result"
    }
   ],
   "source": [
    "df_Loan['BankState'].unique()"
   ]
  },
  {
   "cell_type": "markdown",
   "id": "d805c820",
   "metadata": {},
   "source": [
    "Now we will remove PR GU AN EN VI which are the invalid states from the BankState variable"
   ]
  },
  {
   "cell_type": "code",
   "execution_count": 19,
   "id": "a0bac520",
   "metadata": {},
   "outputs": [
    {
     "data": {
      "text/plain": [
       "array(['OH', 'IN', 'OK', 'FL', 'DE', 'SD', 'AL', 'CT', 'GA', 'OR', 'MN',\n",
       "       'RI', 'NC', 'TX', 'MD', 'NY', 'TN', 'SC', 'MS', 'MA', 'LA', 'IA',\n",
       "       'VA', 'PA', 'MO', 'CA', 'UT', 'IL', 'KS', 'MI', 'WV', 'WI', 'CO',\n",
       "       'ME', 'NH', 'AR', 'ND', 'MT', 'ID', 'KY', 'NM', 'WA', 'NV', 'DC',\n",
       "       'NE', 'NJ', 'WY', 'AZ', 'HI', 'VT', 'AK'], dtype=object)"
      ]
     },
     "execution_count": 19,
     "metadata": {},
     "output_type": "execute_result"
    }
   ],
   "source": [
    "\n",
    "df_Loan = df_Loan.query(\"BankState in ['OH', 'IN', 'OK', 'FL', 'DE', 'SD', 'AL', 'CT', 'GA', 'OR', 'MN',\\\n",
    "       'RI', 'NC', 'TX', 'MD', 'NY', 'TN', 'SC', 'MS', 'MA', 'LA', 'IA',\\\n",
    "       'VA', 'CA', 'IL', 'KY', 'PA', 'MO', 'WA', 'MI', 'UT', 'KS', 'WV',\\\n",
    "       'WI', 'AZ', 'NJ', 'CO', 'ME', 'NH', 'AR', 'ND', 'MT', 'ID', 'WY',\\\n",
    "       'NM', 'DC', 'NV', 'NE',  'HI', 'VT', 'AK']\")\n",
    "df_Loan['BankState'].unique()"
   ]
  },
  {
   "cell_type": "markdown",
   "id": "e8be5acd",
   "metadata": {},
   "source": [
    "Dropping the unwanted columns that add no information to the analysis."
   ]
  },
  {
   "cell_type": "code",
   "execution_count": 20,
   "id": "a849e58c",
   "metadata": {},
   "outputs": [
    {
     "data": {
      "text/html": [
       "<div>\n",
       "<style scoped>\n",
       "    .dataframe tbody tr th:only-of-type {\n",
       "        vertical-align: middle;\n",
       "    }\n",
       "\n",
       "    .dataframe tbody tr th {\n",
       "        vertical-align: top;\n",
       "    }\n",
       "\n",
       "    .dataframe thead th {\n",
       "        text-align: right;\n",
       "    }\n",
       "</style>\n",
       "<table border=\"1\" class=\"dataframe\">\n",
       "  <thead>\n",
       "    <tr style=\"text-align: right;\">\n",
       "      <th></th>\n",
       "      <th>BankState</th>\n",
       "      <th>NAICS</th>\n",
       "      <th>ApprovalFY</th>\n",
       "      <th>Term</th>\n",
       "      <th>NoEmp</th>\n",
       "      <th>NewExist</th>\n",
       "      <th>CreateJob</th>\n",
       "      <th>RetainedJob</th>\n",
       "      <th>FranchiseCode</th>\n",
       "      <th>UrbanRural</th>\n",
       "      <th>RevLineCr</th>\n",
       "      <th>LowDoc</th>\n",
       "      <th>DisbursementGross</th>\n",
       "      <th>BalanceGross</th>\n",
       "      <th>ChgOffPrinGr</th>\n",
       "      <th>GrAppv</th>\n",
       "      <th>SBA_Appv</th>\n",
       "      <th>Default</th>\n",
       "    </tr>\n",
       "  </thead>\n",
       "  <tbody>\n",
       "    <tr>\n",
       "      <th>0</th>\n",
       "      <td>OH</td>\n",
       "      <td>451120</td>\n",
       "      <td>1997</td>\n",
       "      <td>84</td>\n",
       "      <td>4</td>\n",
       "      <td>2.0</td>\n",
       "      <td>0</td>\n",
       "      <td>0</td>\n",
       "      <td>1</td>\n",
       "      <td>0</td>\n",
       "      <td>N</td>\n",
       "      <td>Y</td>\n",
       "      <td>60000.0</td>\n",
       "      <td>0.0</td>\n",
       "      <td>0.0</td>\n",
       "      <td>60000.0</td>\n",
       "      <td>48000.0</td>\n",
       "      <td>0</td>\n",
       "    </tr>\n",
       "    <tr>\n",
       "      <th>1</th>\n",
       "      <td>IN</td>\n",
       "      <td>722410</td>\n",
       "      <td>1997</td>\n",
       "      <td>60</td>\n",
       "      <td>2</td>\n",
       "      <td>2.0</td>\n",
       "      <td>0</td>\n",
       "      <td>0</td>\n",
       "      <td>1</td>\n",
       "      <td>0</td>\n",
       "      <td>N</td>\n",
       "      <td>Y</td>\n",
       "      <td>40000.0</td>\n",
       "      <td>0.0</td>\n",
       "      <td>0.0</td>\n",
       "      <td>40000.0</td>\n",
       "      <td>32000.0</td>\n",
       "      <td>0</td>\n",
       "    </tr>\n",
       "    <tr>\n",
       "      <th>2</th>\n",
       "      <td>IN</td>\n",
       "      <td>621210</td>\n",
       "      <td>1997</td>\n",
       "      <td>180</td>\n",
       "      <td>7</td>\n",
       "      <td>1.0</td>\n",
       "      <td>0</td>\n",
       "      <td>0</td>\n",
       "      <td>1</td>\n",
       "      <td>0</td>\n",
       "      <td>N</td>\n",
       "      <td>N</td>\n",
       "      <td>287000.0</td>\n",
       "      <td>0.0</td>\n",
       "      <td>0.0</td>\n",
       "      <td>287000.0</td>\n",
       "      <td>215250.0</td>\n",
       "      <td>0</td>\n",
       "    </tr>\n",
       "    <tr>\n",
       "      <th>3</th>\n",
       "      <td>OK</td>\n",
       "      <td>0</td>\n",
       "      <td>1997</td>\n",
       "      <td>60</td>\n",
       "      <td>2</td>\n",
       "      <td>1.0</td>\n",
       "      <td>0</td>\n",
       "      <td>0</td>\n",
       "      <td>1</td>\n",
       "      <td>0</td>\n",
       "      <td>N</td>\n",
       "      <td>Y</td>\n",
       "      <td>35000.0</td>\n",
       "      <td>0.0</td>\n",
       "      <td>0.0</td>\n",
       "      <td>35000.0</td>\n",
       "      <td>28000.0</td>\n",
       "      <td>0</td>\n",
       "    </tr>\n",
       "    <tr>\n",
       "      <th>4</th>\n",
       "      <td>FL</td>\n",
       "      <td>0</td>\n",
       "      <td>1997</td>\n",
       "      <td>240</td>\n",
       "      <td>14</td>\n",
       "      <td>1.0</td>\n",
       "      <td>7</td>\n",
       "      <td>7</td>\n",
       "      <td>1</td>\n",
       "      <td>0</td>\n",
       "      <td>N</td>\n",
       "      <td>N</td>\n",
       "      <td>229000.0</td>\n",
       "      <td>0.0</td>\n",
       "      <td>0.0</td>\n",
       "      <td>229000.0</td>\n",
       "      <td>229000.0</td>\n",
       "      <td>0</td>\n",
       "    </tr>\n",
       "  </tbody>\n",
       "</table>\n",
       "</div>"
      ],
      "text/plain": [
       "  BankState   NAICS  ApprovalFY  Term  NoEmp  NewExist  CreateJob  \\\n",
       "0        OH  451120        1997    84      4       2.0          0   \n",
       "1        IN  722410        1997    60      2       2.0          0   \n",
       "2        IN  621210        1997   180      7       1.0          0   \n",
       "3        OK       0        1997    60      2       1.0          0   \n",
       "4        FL       0        1997   240     14       1.0          7   \n",
       "\n",
       "   RetainedJob  FranchiseCode  UrbanRural RevLineCr LowDoc  DisbursementGross  \\\n",
       "0            0              1           0         N      Y            60000.0   \n",
       "1            0              1           0         N      Y            40000.0   \n",
       "2            0              1           0         N      N           287000.0   \n",
       "3            0              1           0         N      Y            35000.0   \n",
       "4            7              1           0         N      N           229000.0   \n",
       "\n",
       "   BalanceGross  ChgOffPrinGr    GrAppv  SBA_Appv  Default  \n",
       "0           0.0           0.0   60000.0   48000.0        0  \n",
       "1           0.0           0.0   40000.0   32000.0        0  \n",
       "2           0.0           0.0  287000.0  215250.0        0  \n",
       "3           0.0           0.0   35000.0   28000.0        0  \n",
       "4           0.0           0.0  229000.0  229000.0        0  "
      ]
     },
     "execution_count": 20,
     "metadata": {},
     "output_type": "execute_result"
    }
   ],
   "source": [
    "\n",
    "df_Loan.drop(columns=['LoanNr_ChkDgt','Name','City','State','Zip','Bank','MIS_Status'], inplace=True)\n",
    "\n",
    "df_Loan.drop(columns=['ApprovalDate','DisbursementDate'], inplace=True)\n",
    "\n",
    "df_Loan.drop(columns=['ChgOffDate'], inplace=True)\n",
    "\n",
    "df_Loan.head()"
   ]
  },
  {
   "cell_type": "markdown",
   "id": "930cd91a",
   "metadata": {},
   "source": [
    "Final dataset dimensions are reduced to :"
   ]
  },
  {
   "cell_type": "code",
   "execution_count": 132,
   "id": "d48885b9",
   "metadata": {},
   "outputs": [
    {
     "data": {
      "text/plain": [
       "(611031, 18)"
      ]
     },
     "execution_count": 132,
     "metadata": {},
     "output_type": "execute_result"
    }
   ],
   "source": [
    "df_Loan.shape"
   ]
  },
  {
   "cell_type": "code",
   "execution_count": 21,
   "id": "281aba13",
   "metadata": {},
   "outputs": [
    {
     "data": {
      "image/png": "[encoded data removed]",
      "text/plain": [
       "<Figure size 1080x720 with 2 Axes>"
      ]
     },
     "metadata": {
      "needs_background": "light"
     },
     "output_type": "display_data"
    }
   ],
   "source": [
    "corr = df_Loan.corr()\n",
    "corr\n",
    "cor_fig, cor_ax = plt.subplots(figsize=(15, 10))\n",
    "corr_matrix = df_Loan.corr()\n",
    "cor_ax = sns.heatmap(corr_matrix, annot=True)\n",
    "plt.xticks(rotation=30, horizontalalignment='right', fontsize=8)\n",
    "plt.yticks(fontsize=8)\n",
    "plt.show()"
   ]
  },
  {
   "cell_type": "code",
   "execution_count": 134,
   "id": "42446c6d",
   "metadata": {},
   "outputs": [
    {
     "data": {
      "text/plain": [
       "array([0, 1])"
      ]
     },
     "execution_count": 134,
     "metadata": {},
     "output_type": "execute_result"
    }
   ],
   "source": [
    "df_Loan.Default.unique()"
   ]
  },
  {
   "cell_type": "markdown",
   "id": "841d9f1f",
   "metadata": {},
   "source": [
    "In the plot below, we can see the state-wise distribution of loan that was charged off vs. loan that was paid in full. It can be seen that North Carolina, Illinois and California are the top states with high defaulter rate."
   ]
  },
  {
   "cell_type": "code",
   "execution_count": 22,
   "id": "e451df79",
   "metadata": {},
   "outputs": [
    {
     "data": {
      "image/png": "[encoded data removed]",
      "text/plain": [
       "<Figure size 1440x1440 with 1 Axes>"
      ]
     },
     "metadata": {},
     "output_type": "display_data"
    }
   ],
   "source": [
    "sns.set(style=\"darkgrid\")\n",
    "bar_data = df_Loan.groupby('BankState')['Default'].count().reset_index()\n",
    "bar1 = sns.barplot(x=\"BankState\",  y=\"Default\", data=bar_data, color='darkblue')\n",
    "defaulter=df_Loan[df_Loan.Default==1]\n",
    "bar2_data=defaulter.groupby('BankState')['Default'].sum().reset_index()\n",
    "bar2 = sns.barplot(x=\"BankState\",  y=\"Default\", data=bar2_data, color='lightblue')\n",
    "fig=plt.gcf()\n",
    "fig.set_size_inches(20,20)\n",
    "plt.show()"
   ]
  },
  {
   "cell_type": "code",
   "execution_count": 136,
   "id": "0aa2677a",
   "metadata": {},
   "outputs": [
    {
     "data": {
      "text/plain": [
       "1    17452\n",
       "Name: Default, dtype: int64"
      ]
     },
     "execution_count": 136,
     "metadata": {},
     "output_type": "execute_result"
    }
   ],
   "source": [
    "data_check=df_Loan[(df_Loan.Default==1) & (df_Loan.BankState=='NC')]\n",
    "data_check.Default.value_counts()"
   ]
  },
  {
   "cell_type": "code",
   "execution_count": 137,
   "id": "be73c3c6",
   "metadata": {},
   "outputs": [
    {
     "data": {
      "text/plain": [
       "(63042, 18)"
      ]
     },
     "execution_count": 137,
     "metadata": {},
     "output_type": "execute_result"
    }
   ],
   "source": [
    "ca_data=df_Loan[df_Loan.BankState=='NC']\n",
    "ca_data.shape"
   ]
  },
  {
   "cell_type": "markdown",
   "id": "0be7a9a3",
   "metadata": {},
   "source": [
    "This is percentage distribution of loan defaulters for every state."
   ]
  },
  {
   "cell_type": "code",
   "execution_count": 138,
   "id": "1ec21bf8",
   "metadata": {},
   "outputs": [
    {
     "data": {
      "text/html": [
       "<div>\n",
       "<style scoped>\n",
       "    .dataframe tbody tr th:only-of-type {\n",
       "        vertical-align: middle;\n",
       "    }\n",
       "\n",
       "    .dataframe tbody tr th {\n",
       "        vertical-align: top;\n",
       "    }\n",
       "\n",
       "    .dataframe thead th {\n",
       "        text-align: right;\n",
       "    }\n",
       "</style>\n",
       "<table border=\"1\" class=\"dataframe\">\n",
       "  <thead>\n",
       "    <tr style=\"text-align: right;\">\n",
       "      <th>Default</th>\n",
       "      <th>0</th>\n",
       "      <th>1</th>\n",
       "      <th>Def_Percent</th>\n",
       "    </tr>\n",
       "    <tr>\n",
       "      <th>BankState</th>\n",
       "      <th></th>\n",
       "      <th></th>\n",
       "      <th></th>\n",
       "    </tr>\n",
       "  </thead>\n",
       "  <tbody>\n",
       "    <tr>\n",
       "      <th>AK</th>\n",
       "      <td>1123</td>\n",
       "      <td>96</td>\n",
       "      <td>7.875308</td>\n",
       "    </tr>\n",
       "    <tr>\n",
       "      <th>AL</th>\n",
       "      <td>8296</td>\n",
       "      <td>1247</td>\n",
       "      <td>13.067170</td>\n",
       "    </tr>\n",
       "    <tr>\n",
       "      <th>AR</th>\n",
       "      <td>4345</td>\n",
       "      <td>545</td>\n",
       "      <td>11.145194</td>\n",
       "    </tr>\n",
       "    <tr>\n",
       "      <th>AZ</th>\n",
       "      <td>1878</td>\n",
       "      <td>144</td>\n",
       "      <td>7.121662</td>\n",
       "    </tr>\n",
       "    <tr>\n",
       "      <th>CA</th>\n",
       "      <td>46222</td>\n",
       "      <td>13723</td>\n",
       "      <td>22.892652</td>\n",
       "    </tr>\n",
       "    <tr>\n",
       "      <th>CO</th>\n",
       "      <td>5791</td>\n",
       "      <td>342</td>\n",
       "      <td>5.576390</td>\n",
       "    </tr>\n",
       "    <tr>\n",
       "      <th>CT</th>\n",
       "      <td>5316</td>\n",
       "      <td>660</td>\n",
       "      <td>11.044177</td>\n",
       "    </tr>\n",
       "    <tr>\n",
       "      <th>DC</th>\n",
       "      <td>1802</td>\n",
       "      <td>234</td>\n",
       "      <td>11.493124</td>\n",
       "    </tr>\n",
       "    <tr>\n",
       "      <th>DE</th>\n",
       "      <td>11990</td>\n",
       "      <td>4419</td>\n",
       "      <td>26.930343</td>\n",
       "    </tr>\n",
       "    <tr>\n",
       "      <th>FL</th>\n",
       "      <td>7568</td>\n",
       "      <td>1799</td>\n",
       "      <td>19.205722</td>\n",
       "    </tr>\n",
       "    <tr>\n",
       "      <th>GA</th>\n",
       "      <td>8832</td>\n",
       "      <td>804</td>\n",
       "      <td>8.343711</td>\n",
       "    </tr>\n",
       "    <tr>\n",
       "      <th>HI</th>\n",
       "      <td>1661</td>\n",
       "      <td>153</td>\n",
       "      <td>8.434399</td>\n",
       "    </tr>\n",
       "    <tr>\n",
       "      <th>IA</th>\n",
       "      <td>6721</td>\n",
       "      <td>636</td>\n",
       "      <td>8.644828</td>\n",
       "    </tr>\n",
       "    <tr>\n",
       "      <th>ID</th>\n",
       "      <td>2730</td>\n",
       "      <td>294</td>\n",
       "      <td>9.722222</td>\n",
       "    </tr>\n",
       "    <tr>\n",
       "      <th>IL</th>\n",
       "      <td>38390</td>\n",
       "      <td>12801</td>\n",
       "      <td>25.006349</td>\n",
       "    </tr>\n",
       "    <tr>\n",
       "      <th>IN</th>\n",
       "      <td>4589</td>\n",
       "      <td>413</td>\n",
       "      <td>8.256697</td>\n",
       "    </tr>\n",
       "    <tr>\n",
       "      <th>KS</th>\n",
       "      <td>5970</td>\n",
       "      <td>586</td>\n",
       "      <td>8.938377</td>\n",
       "    </tr>\n",
       "    <tr>\n",
       "      <th>KY</th>\n",
       "      <td>2634</td>\n",
       "      <td>365</td>\n",
       "      <td>12.170724</td>\n",
       "    </tr>\n",
       "    <tr>\n",
       "      <th>LA</th>\n",
       "      <td>3206</td>\n",
       "      <td>326</td>\n",
       "      <td>9.229898</td>\n",
       "    </tr>\n",
       "    <tr>\n",
       "      <th>MA</th>\n",
       "      <td>9059</td>\n",
       "      <td>611</td>\n",
       "      <td>6.318511</td>\n",
       "    </tr>\n",
       "    <tr>\n",
       "      <th>MD</th>\n",
       "      <td>4509</td>\n",
       "      <td>325</td>\n",
       "      <td>6.723211</td>\n",
       "    </tr>\n",
       "    <tr>\n",
       "      <th>ME</th>\n",
       "      <td>2401</td>\n",
       "      <td>167</td>\n",
       "      <td>6.503115</td>\n",
       "    </tr>\n",
       "    <tr>\n",
       "      <th>MI</th>\n",
       "      <td>4688</td>\n",
       "      <td>374</td>\n",
       "      <td>7.388384</td>\n",
       "    </tr>\n",
       "    <tr>\n",
       "      <th>MN</th>\n",
       "      <td>11193</td>\n",
       "      <td>803</td>\n",
       "      <td>6.693898</td>\n",
       "    </tr>\n",
       "    <tr>\n",
       "      <th>MO</th>\n",
       "      <td>9404</td>\n",
       "      <td>1242</td>\n",
       "      <td>11.666354</td>\n",
       "    </tr>\n",
       "    <tr>\n",
       "      <th>MS</th>\n",
       "      <td>4090</td>\n",
       "      <td>380</td>\n",
       "      <td>8.501119</td>\n",
       "    </tr>\n",
       "    <tr>\n",
       "      <th>MT</th>\n",
       "      <td>5664</td>\n",
       "      <td>317</td>\n",
       "      <td>5.300117</td>\n",
       "    </tr>\n",
       "    <tr>\n",
       "      <th>NC</th>\n",
       "      <td>45590</td>\n",
       "      <td>17452</td>\n",
       "      <td>27.683132</td>\n",
       "    </tr>\n",
       "    <tr>\n",
       "      <th>ND</th>\n",
       "      <td>3639</td>\n",
       "      <td>284</td>\n",
       "      <td>7.239358</td>\n",
       "    </tr>\n",
       "    <tr>\n",
       "      <th>NE</th>\n",
       "      <td>3174</td>\n",
       "      <td>264</td>\n",
       "      <td>7.678883</td>\n",
       "    </tr>\n",
       "    <tr>\n",
       "      <th>NH</th>\n",
       "      <td>4638</td>\n",
       "      <td>273</td>\n",
       "      <td>5.558949</td>\n",
       "    </tr>\n",
       "    <tr>\n",
       "      <th>NJ</th>\n",
       "      <td>3833</td>\n",
       "      <td>394</td>\n",
       "      <td>9.321031</td>\n",
       "    </tr>\n",
       "    <tr>\n",
       "      <th>NM</th>\n",
       "      <td>2958</td>\n",
       "      <td>258</td>\n",
       "      <td>8.022388</td>\n",
       "    </tr>\n",
       "    <tr>\n",
       "      <th>NV</th>\n",
       "      <td>2488</td>\n",
       "      <td>209</td>\n",
       "      <td>7.749351</td>\n",
       "    </tr>\n",
       "    <tr>\n",
       "      <th>NY</th>\n",
       "      <td>24234</td>\n",
       "      <td>4722</td>\n",
       "      <td>16.307501</td>\n",
       "    </tr>\n",
       "    <tr>\n",
       "      <th>OH</th>\n",
       "      <td>36589</td>\n",
       "      <td>7673</td>\n",
       "      <td>17.335412</td>\n",
       "    </tr>\n",
       "    <tr>\n",
       "      <th>OK</th>\n",
       "      <td>4622</td>\n",
       "      <td>518</td>\n",
       "      <td>10.077821</td>\n",
       "    </tr>\n",
       "    <tr>\n",
       "      <th>OR</th>\n",
       "      <td>5487</td>\n",
       "      <td>1561</td>\n",
       "      <td>22.148127</td>\n",
       "    </tr>\n",
       "    <tr>\n",
       "      <th>PA</th>\n",
       "      <td>10049</td>\n",
       "      <td>844</td>\n",
       "      <td>7.748095</td>\n",
       "    </tr>\n",
       "    <tr>\n",
       "      <th>RI</th>\n",
       "      <td>28115</td>\n",
       "      <td>8069</td>\n",
       "      <td>22.299912</td>\n",
       "    </tr>\n",
       "    <tr>\n",
       "      <th>SC</th>\n",
       "      <td>2999</td>\n",
       "      <td>514</td>\n",
       "      <td>14.631369</td>\n",
       "    </tr>\n",
       "    <tr>\n",
       "      <th>SD</th>\n",
       "      <td>27995</td>\n",
       "      <td>6356</td>\n",
       "      <td>18.503100</td>\n",
       "    </tr>\n",
       "    <tr>\n",
       "      <th>TN</th>\n",
       "      <td>3626</td>\n",
       "      <td>409</td>\n",
       "      <td>10.136307</td>\n",
       "    </tr>\n",
       "    <tr>\n",
       "      <th>TX</th>\n",
       "      <td>23822</td>\n",
       "      <td>3317</td>\n",
       "      <td>12.222263</td>\n",
       "    </tr>\n",
       "    <tr>\n",
       "      <th>UT</th>\n",
       "      <td>11481</td>\n",
       "      <td>2627</td>\n",
       "      <td>18.620641</td>\n",
       "    </tr>\n",
       "    <tr>\n",
       "      <th>VA</th>\n",
       "      <td>12044</td>\n",
       "      <td>8955</td>\n",
       "      <td>42.644888</td>\n",
       "    </tr>\n",
       "    <tr>\n",
       "      <th>VT</th>\n",
       "      <td>3553</td>\n",
       "      <td>203</td>\n",
       "      <td>5.404686</td>\n",
       "    </tr>\n",
       "    <tr>\n",
       "      <th>WA</th>\n",
       "      <td>6561</td>\n",
       "      <td>460</td>\n",
       "      <td>6.551773</td>\n",
       "    </tr>\n",
       "    <tr>\n",
       "      <th>WI</th>\n",
       "      <td>10019</td>\n",
       "      <td>1150</td>\n",
       "      <td>10.296356</td>\n",
       "    </tr>\n",
       "    <tr>\n",
       "      <th>WV</th>\n",
       "      <td>1294</td>\n",
       "      <td>194</td>\n",
       "      <td>13.037634</td>\n",
       "    </tr>\n",
       "    <tr>\n",
       "      <th>WY</th>\n",
       "      <td>1569</td>\n",
       "      <td>68</td>\n",
       "      <td>4.153940</td>\n",
       "    </tr>\n",
       "  </tbody>\n",
       "</table>\n",
       "</div>"
      ],
      "text/plain": [
       "Default        0      1  Def_Percent\n",
       "BankState                           \n",
       "AK          1123     96     7.875308\n",
       "AL          8296   1247    13.067170\n",
       "AR          4345    545    11.145194\n",
       "AZ          1878    144     7.121662\n",
       "CA         46222  13723    22.892652\n",
       "CO          5791    342     5.576390\n",
       "CT          5316    660    11.044177\n",
       "DC          1802    234    11.493124\n",
       "DE         11990   4419    26.930343\n",
       "FL          7568   1799    19.205722\n",
       "GA          8832    804     8.343711\n",
       "HI          1661    153     8.434399\n",
       "IA          6721    636     8.644828\n",
       "ID          2730    294     9.722222\n",
       "IL         38390  12801    25.006349\n",
       "IN          4589    413     8.256697\n",
       "KS          5970    586     8.938377\n",
       "KY          2634    365    12.170724\n",
       "LA          3206    326     9.229898\n",
       "MA          9059    611     6.318511\n",
       "MD          4509    325     6.723211\n",
       "ME          2401    167     6.503115\n",
       "MI          4688    374     7.388384\n",
       "MN         11193    803     6.693898\n",
       "MO          9404   1242    11.666354\n",
       "MS          4090    380     8.501119\n",
       "MT          5664    317     5.300117\n",
       "NC         45590  17452    27.683132\n",
       "ND          3639    284     7.239358\n",
       "NE          3174    264     7.678883\n",
       "NH          4638    273     5.558949\n",
       "NJ          3833    394     9.321031\n",
       "NM          2958    258     8.022388\n",
       "NV          2488    209     7.749351\n",
       "NY         24234   4722    16.307501\n",
       "OH         36589   7673    17.335412\n",
       "OK          4622    518    10.077821\n",
       "OR          5487   1561    22.148127\n",
       "PA         10049    844     7.748095\n",
       "RI         28115   8069    22.299912\n",
       "SC          2999    514    14.631369\n",
       "SD         27995   6356    18.503100\n",
       "TN          3626    409    10.136307\n",
       "TX         23822   3317    12.222263\n",
       "UT         11481   2627    18.620641\n",
       "VA         12044   8955    42.644888\n",
       "VT          3553    203     5.404686\n",
       "WA          6561    460     6.551773\n",
       "WI         10019   1150    10.296356\n",
       "WV          1294    194    13.037634\n",
       "WY          1569     68     4.153940"
      ]
     },
     "execution_count": 138,
     "metadata": {},
     "output_type": "execute_result"
    }
   ],
   "source": [
    "def_state = df_Loan.groupby(['BankState', 'Default'])['BankState'].count().unstack('Default')\n",
    "def_state['Def_Percent'] = (def_state[1]/(def_state[1] + def_state[0]))*100\n",
    "def_state"
   ]
  },
  {
   "cell_type": "code",
   "execution_count": 23,
   "id": "15f7c1b7",
   "metadata": {},
   "outputs": [
    {
     "data": {
      "text/html": [
       "<div>\n",
       "<style scoped>\n",
       "    .dataframe tbody tr th:only-of-type {\n",
       "        vertical-align: middle;\n",
       "    }\n",
       "\n",
       "    .dataframe tbody tr th {\n",
       "        vertical-align: top;\n",
       "    }\n",
       "\n",
       "    .dataframe thead th {\n",
       "        text-align: right;\n",
       "    }\n",
       "</style>\n",
       "<table border=\"1\" class=\"dataframe\">\n",
       "  <thead>\n",
       "    <tr style=\"text-align: right;\">\n",
       "      <th></th>\n",
       "      <th>NAICS</th>\n",
       "      <th>ApprovalFY</th>\n",
       "      <th>Term</th>\n",
       "      <th>NoEmp</th>\n",
       "      <th>NewExist</th>\n",
       "      <th>CreateJob</th>\n",
       "      <th>RetainedJob</th>\n",
       "      <th>FranchiseCode</th>\n",
       "      <th>UrbanRural</th>\n",
       "      <th>DisbursementGross</th>\n",
       "      <th>...</th>\n",
       "      <th>BankState_VA</th>\n",
       "      <th>BankState_VT</th>\n",
       "      <th>BankState_WA</th>\n",
       "      <th>BankState_WI</th>\n",
       "      <th>BankState_WV</th>\n",
       "      <th>BankState_WY</th>\n",
       "      <th>RevLineCr_N</th>\n",
       "      <th>RevLineCr_Y</th>\n",
       "      <th>LowDoc_N</th>\n",
       "      <th>LowDoc_Y</th>\n",
       "    </tr>\n",
       "  </thead>\n",
       "  <tbody>\n",
       "    <tr>\n",
       "      <th>0</th>\n",
       "      <td>451120</td>\n",
       "      <td>1997</td>\n",
       "      <td>84</td>\n",
       "      <td>4</td>\n",
       "      <td>2.0</td>\n",
       "      <td>0</td>\n",
       "      <td>0</td>\n",
       "      <td>1</td>\n",
       "      <td>0</td>\n",
       "      <td>60000.0</td>\n",
       "      <td>...</td>\n",
       "      <td>0</td>\n",
       "      <td>0</td>\n",
       "      <td>0</td>\n",
       "      <td>0</td>\n",
       "      <td>0</td>\n",
       "      <td>0</td>\n",
       "      <td>1</td>\n",
       "      <td>0</td>\n",
       "      <td>0</td>\n",
       "      <td>1</td>\n",
       "    </tr>\n",
       "    <tr>\n",
       "      <th>1</th>\n",
       "      <td>722410</td>\n",
       "      <td>1997</td>\n",
       "      <td>60</td>\n",
       "      <td>2</td>\n",
       "      <td>2.0</td>\n",
       "      <td>0</td>\n",
       "      <td>0</td>\n",
       "      <td>1</td>\n",
       "      <td>0</td>\n",
       "      <td>40000.0</td>\n",
       "      <td>...</td>\n",
       "      <td>0</td>\n",
       "      <td>0</td>\n",
       "      <td>0</td>\n",
       "      <td>0</td>\n",
       "      <td>0</td>\n",
       "      <td>0</td>\n",
       "      <td>1</td>\n",
       "      <td>0</td>\n",
       "      <td>0</td>\n",
       "      <td>1</td>\n",
       "    </tr>\n",
       "    <tr>\n",
       "      <th>2</th>\n",
       "      <td>621210</td>\n",
       "      <td>1997</td>\n",
       "      <td>180</td>\n",
       "      <td>7</td>\n",
       "      <td>1.0</td>\n",
       "      <td>0</td>\n",
       "      <td>0</td>\n",
       "      <td>1</td>\n",
       "      <td>0</td>\n",
       "      <td>287000.0</td>\n",
       "      <td>...</td>\n",
       "      <td>0</td>\n",
       "      <td>0</td>\n",
       "      <td>0</td>\n",
       "      <td>0</td>\n",
       "      <td>0</td>\n",
       "      <td>0</td>\n",
       "      <td>1</td>\n",
       "      <td>0</td>\n",
       "      <td>1</td>\n",
       "      <td>0</td>\n",
       "    </tr>\n",
       "    <tr>\n",
       "      <th>3</th>\n",
       "      <td>0</td>\n",
       "      <td>1997</td>\n",
       "      <td>60</td>\n",
       "      <td>2</td>\n",
       "      <td>1.0</td>\n",
       "      <td>0</td>\n",
       "      <td>0</td>\n",
       "      <td>1</td>\n",
       "      <td>0</td>\n",
       "      <td>35000.0</td>\n",
       "      <td>...</td>\n",
       "      <td>0</td>\n",
       "      <td>0</td>\n",
       "      <td>0</td>\n",
       "      <td>0</td>\n",
       "      <td>0</td>\n",
       "      <td>0</td>\n",
       "      <td>1</td>\n",
       "      <td>0</td>\n",
       "      <td>0</td>\n",
       "      <td>1</td>\n",
       "    </tr>\n",
       "    <tr>\n",
       "      <th>4</th>\n",
       "      <td>0</td>\n",
       "      <td>1997</td>\n",
       "      <td>240</td>\n",
       "      <td>14</td>\n",
       "      <td>1.0</td>\n",
       "      <td>7</td>\n",
       "      <td>7</td>\n",
       "      <td>1</td>\n",
       "      <td>0</td>\n",
       "      <td>229000.0</td>\n",
       "      <td>...</td>\n",
       "      <td>0</td>\n",
       "      <td>0</td>\n",
       "      <td>0</td>\n",
       "      <td>0</td>\n",
       "      <td>0</td>\n",
       "      <td>0</td>\n",
       "      <td>1</td>\n",
       "      <td>0</td>\n",
       "      <td>1</td>\n",
       "      <td>0</td>\n",
       "    </tr>\n",
       "  </tbody>\n",
       "</table>\n",
       "<p>5 rows × 70 columns</p>\n",
       "</div>"
      ],
      "text/plain": [
       "    NAICS  ApprovalFY  Term  NoEmp  NewExist  CreateJob  RetainedJob  \\\n",
       "0  451120        1997    84      4       2.0          0            0   \n",
       "1  722410        1997    60      2       2.0          0            0   \n",
       "2  621210        1997   180      7       1.0          0            0   \n",
       "3       0        1997    60      2       1.0          0            0   \n",
       "4       0        1997   240     14       1.0          7            7   \n",
       "\n",
       "   FranchiseCode  UrbanRural  DisbursementGross  ...  BankState_VA  \\\n",
       "0              1           0            60000.0  ...             0   \n",
       "1              1           0            40000.0  ...             0   \n",
       "2              1           0           287000.0  ...             0   \n",
       "3              1           0            35000.0  ...             0   \n",
       "4              1           0           229000.0  ...             0   \n",
       "\n",
       "   BankState_VT  BankState_WA  BankState_WI  BankState_WV  BankState_WY  \\\n",
       "0             0             0             0             0             0   \n",
       "1             0             0             0             0             0   \n",
       "2             0             0             0             0             0   \n",
       "3             0             0             0             0             0   \n",
       "4             0             0             0             0             0   \n",
       "\n",
       "   RevLineCr_N  RevLineCr_Y  LowDoc_N  LowDoc_Y  \n",
       "0            1            0         0         1  \n",
       "1            1            0         0         1  \n",
       "2            1            0         1         0  \n",
       "3            1            0         0         1  \n",
       "4            1            0         1         0  \n",
       "\n",
       "[5 rows x 70 columns]"
      ]
     },
     "execution_count": 23,
     "metadata": {},
     "output_type": "execute_result"
    }
   ],
   "source": [
    "# One-hot encoding for the categorical data\n",
    "df_Loan = pd.get_dummies(df_Loan)\n",
    "df_Loan.head()"
   ]
  },
  {
   "cell_type": "markdown",
   "id": "d7b6a6f2",
   "metadata": {},
   "source": [
    "### MODEL-BUILDING\n",
    "\n",
    "We start by splitting the data into train and test datasets to fit into models. "
   ]
  },
  {
   "cell_type": "code",
   "execution_count": 24,
   "id": "baf4b96f",
   "metadata": {},
   "outputs": [
    {
     "data": {
      "text/plain": [
       "0    5823\n",
       "1    1677\n",
       "Name: Default, dtype: int64"
      ]
     },
     "execution_count": 24,
     "metadata": {},
     "output_type": "execute_result"
    }
   ],
   "source": [
    "y = df_Loan['Default']\n",
    "X = df_Loan.drop('Default', axis=1)\n",
    "X = X[0:30000]\n",
    "y = y[0:30000]\n",
    "X_train, X_test, y_train, y_test = train_test_split(X, y, test_size=0.25)\n",
    "\n",
    "y_test.value_counts()"
   ]
  },
  {
   "cell_type": "markdown",
   "id": "cf43e62d",
   "metadata": {},
   "source": [
    "#### Naive-Bayes Model\n",
    "The most basic binary classifier model is Bernoulli's Naive-Bayes classifier model. We will use this as the baseline for our analysis and comparison of models. \n"
   ]
  },
  {
   "cell_type": "code",
   "execution_count": 25,
   "id": "9f16388d",
   "metadata": {},
   "outputs": [
    {
     "name": "stdout",
     "output_type": "stream",
     "text": [
      "Number of mislabeled points out of a total 7500 points : 118\n",
      "              precision    recall  f1-score   support\n",
      "\n",
      "           0       0.99      0.99      0.99      5823\n",
      "           1       0.96      0.97      0.96      1677\n",
      "\n",
      "    accuracy                           0.98      7500\n",
      "   macro avg       0.98      0.98      0.98      7500\n",
      "weighted avg       0.98      0.98      0.98      7500\n",
      "\n",
      "The confusion matrix:\n",
      " [[5763   60]\n",
      " [  58 1619]]\n"
     ]
    },
    {
     "data": {
      "image/png": "[encoded data removed]",
      "text/plain": [
       "<Figure size 432x288 with 2 Axes>"
      ]
     },
     "metadata": {},
     "output_type": "display_data"
    },
    {
     "name": "stdout",
     "output_type": "stream",
     "text": [
      "Error rate: 0.016\n",
      "[0.986      0.98155556 0.98533333 0.98355556 0.98311111]\n",
      "The average performance for 5 folds:  0.9839: \n"
     ]
    },
    {
     "data": {
      "image/png": "[encoded data removed]",
      "text/plain": [
       "<Figure size 432x288 with 1 Axes>"
      ]
     },
     "metadata": {},
     "output_type": "display_data"
    }
   ],
   "source": [
    "\n",
    "# Training the Naive Bayes model on the Training set\n",
    "from sklearn.naive_bayes import BernoulliNB\n",
    "\n",
    "import sklearn.naive_bayes as skb\n",
    "\n",
    "bnb=skb.BernoulliNB() #This is the binary Naive Bayes, assumes 0's and 1's\n",
    "BernoulliModel=bnb.fit(X_train, y_train)\n",
    "y_pred=BernoulliModel.predict(X_test)\n",
    "print(\"Number of mislabeled points out of a total %d points : %d\" % \n",
    "(X_test.shape[0], (y_test != y_pred).sum()))\n",
    "C=confusion_matrix(y_test, y_pred)\n",
    "print(classification_report(y_test,y_pred))\n",
    "print(\"The confusion matrix:\\n\", C)\n",
    "errRate=1.-sum(np.diag(C))/C.sum()\n",
    "sns.heatmap(C, cmap=\"Spectral\")\n",
    "plt.title(f\"Test error rate {errRate:3.2}\")\n",
    "plt.show()\n",
    "print(f\"Error rate: {errRate:3.2}\")\n",
    "nfolds=5\n",
    "cv_scores2 = cross_val_score(BernoulliModel, X_train, y_train, cv=nfolds)\n",
    "plt.plot(np.linspace(0,20639,nfolds),cv_scores2)\n",
    "print(cv_scores2)\n",
    "print(\"The average performance for %d folds:  %4.4f: \"%(nfolds, np.sum(cv_scores2)/nfolds))"
   ]
  },
  {
   "cell_type": "markdown",
   "id": "04b1546b",
   "metadata": {},
   "source": [
    "#### Comments on Naive Bayes Model\n",
    "We can see a pretty high accuracy of 98% for this model. It is performing very well for a basic classification model."
   ]
  },
  {
   "cell_type": "markdown",
   "id": "ea565c1f",
   "metadata": {},
   "source": [
    "#### KNN Model\n",
    "\n",
    "The next model uses kNN algorithm to classify the loan dataset. In this model, we are finding the best k and plugging in that k value in our classifier to predict the loan status."
   ]
  },
  {
   "cell_type": "code",
   "execution_count": null,
   "id": "d1a53678",
   "metadata": {},
   "outputs": [],
   "source": [
    "from sklearn.neighbors import KNeighborsClassifier\n",
    "from sklearn.model_selection import cross_val_score\n",
    "from sklearn.model_selection import GridSearchCV\n",
    "\n",
    "\n",
    "#KNN finding best K and cross val score \n",
    "#cross val score\n",
    "\n",
    "N=20\n",
    "\n",
    "print(\"Cross Val Score for k=1 to \",N)\n",
    "for i in range(0,N,1):\n",
    "    knn_cv = KNeighborsClassifier(i+1)\n",
    "    cv_scores = cross_val_score(knn_cv, X_train, y_train, cv=5)\n",
    "    print(\"For k= \",i+1, \" score(Accuracy)= \",cv_scores)\n",
    "\n",
    "\n",
    "\n",
    "#knn k=1 to 201 jumping every 10 steps\n",
    "\n",
    "knn = KNeighborsClassifier()\n",
    "param_grid = {'n_neighbors': np.arange(1, N, 1)}\n",
    "knn_gscv = GridSearchCV(knn, param_grid, return_train_score=True, cv=5)\n",
    "knn_gscv.fit(X_train, y_train)\n",
    "\n",
    "\n",
    "\n",
    "#print all the accuracy for each knn\n",
    "\n",
    "results = knn_gscv.cv_results_\n",
    "for mean_score, params in zip(results['mean_test_score'], results['params']):\n",
    "    print(params,\"Accuracy= \", np.sqrt(mean_score))"
   ]
  },
  {
   "cell_type": "code",
   "execution_count": 27,
   "id": "798ebfbc",
   "metadata": {},
   "outputs": [
    {
     "ename": "AttributeError",
     "evalue": "'GridSearchCV' object has no attribute 'best_params_'",
     "output_type": "error",
     "traceback": [
      "\u001b[1;31m---------------------------------------------------------------------------\u001b[0m",
      "\u001b[1;31mAttributeError\u001b[0m                            Traceback (most recent call last)",
      "\u001b[1;32m<ipython-input-27-c0363e580854>\u001b[0m in \u001b[0;36m<module>\u001b[1;34m\u001b[0m\n\u001b[1;32m----> 1\u001b[1;33m \u001b[0mprint\u001b[0m\u001b[1;33m(\u001b[0m\u001b[1;34m\"Best KNN is \"\u001b[0m\u001b[1;33m,\u001b[0m\u001b[0mknn_gscv\u001b[0m\u001b[1;33m.\u001b[0m\u001b[0mbest_params_\u001b[0m\u001b[1;33m)\u001b[0m\u001b[1;33m\u001b[0m\u001b[1;33m\u001b[0m\u001b[0m\n\u001b[0m\u001b[0;32m      2\u001b[0m \u001b[0mplt\u001b[0m\u001b[1;33m.\u001b[0m\u001b[0mscatter\u001b[0m\u001b[1;33m(\u001b[0m\u001b[0mnp\u001b[0m\u001b[1;33m.\u001b[0m\u001b[0marange\u001b[0m\u001b[1;33m(\u001b[0m\u001b[1;36m1\u001b[0m\u001b[1;33m,\u001b[0m \u001b[0mN\u001b[0m\u001b[1;33m,\u001b[0m \u001b[1;36m1\u001b[0m\u001b[1;33m)\u001b[0m\u001b[1;33m,\u001b[0m\u001b[0mknn_gscv\u001b[0m\u001b[1;33m.\u001b[0m\u001b[0mcv_results_\u001b[0m\u001b[1;33m[\u001b[0m\u001b[1;34m'mean_test_score'\u001b[0m\u001b[1;33m]\u001b[0m\u001b[1;33m,\u001b[0m\u001b[0ms\u001b[0m\u001b[1;33m=\u001b[0m\u001b[1;36m5\u001b[0m\u001b[1;33m)\u001b[0m\u001b[1;33m\u001b[0m\u001b[1;33m\u001b[0m\u001b[0m\n\u001b[0;32m      3\u001b[0m \u001b[0mplt\u001b[0m\u001b[1;33m.\u001b[0m\u001b[0mtitle\u001b[0m\u001b[1;33m(\u001b[0m\u001b[1;34m\"Accuracy vs k\"\u001b[0m\u001b[1;33m)\u001b[0m\u001b[1;33m\u001b[0m\u001b[1;33m\u001b[0m\u001b[0m\n\u001b[0;32m      4\u001b[0m \u001b[0mplt\u001b[0m\u001b[1;33m.\u001b[0m\u001b[0mshow\u001b[0m\u001b[1;33m(\u001b[0m\u001b[1;33m)\u001b[0m\u001b[1;33m\u001b[0m\u001b[1;33m\u001b[0m\u001b[0m\n\u001b[0;32m      5\u001b[0m \u001b[1;33m\u001b[0m\u001b[0m\n",
      "\u001b[1;31mAttributeError\u001b[0m: 'GridSearchCV' object has no attribute 'best_params_'"
     ]
    }
   ],
   "source": [
    "print(\"Best KNN is \",knn_gscv.best_params_)\n",
    "plt.scatter(np.arange(1, N, 1),knn_gscv.cv_results_['mean_test_score'],s=5)\n",
    "plt.title(\"Accuracy vs k\")\n",
    "plt.show()\n",
    "\n",
    "print(f\"knn best score occurred for k={list(knn_gscv.best_params_.values())[0]}, the best score was {knn_gscv.best_score_:3.2}\")\n",
    "\n",
    "\n",
    "\n",
    "#use the knn model with best result\n",
    "\n",
    "print(\"  \")\n",
    "print(\"Predicting the model with k=\", list(knn_gscv.best_params_.values())[0])\n",
    "print(\"  \")\n",
    "knnClassifier= KNeighborsClassifier(list(knn_gscv.best_params_.values())[0]) \n",
    "knnClassifier.fit(X_train,y_train)\n",
    "y_pred=knnClassifier.predict(X_test)\n",
    "\n",
    "\n",
    "\n",
    "print(\"Number of mislabeled points out of a total %d points : %d\" % (X_test.shape[0], (y_test != y_pred).sum()))\n",
    "C=confusion_matrix(y_test, y_pred)\n",
    "print(classification_report(y_test,y_pred))\n",
    "\n",
    "print(\"The confusion matrix:\\n\", C)\n",
    "sns.heatmap(C, cmap=\"Spectral\")\n",
    "errRate=1.-sum(np.diag(C))/C.sum()\n",
    "print(f\"Error rate: {errRate:5.3}\")"
   ]
  },
  {
   "cell_type": "markdown",
   "id": "56babf1d",
   "metadata": {},
   "source": [
    "#### Comments on KNN\n",
    "We found that the best k value is 5 giving an accuracy of 88%. Out of a total of 7500 test datapoints, 907 were mislabelled and the error rate was found to be 0.121\n",
    "This model seems like a downgrade as it did not perform well when compared to the benchmark set by Naive-Bayes."
   ]
  },
  {
   "cell_type": "markdown",
   "id": "b889d3bc",
   "metadata": {},
   "source": [
    "#### Random Forest\n",
    "We move on to Random Forest model, and calculate the out of bag score and perform cross validation. "
   ]
  },
  {
   "cell_type": "code",
   "execution_count": 162,
   "id": "805ad4e8",
   "metadata": {},
   "outputs": [
    {
     "name": "stdout",
     "output_type": "stream",
     "text": [
      "Confusion matrix:\n",
      "[[5756   64]\n",
      " [   1 1679]]\n",
      "Test accuracy: 0.99133\n",
      "out-of-bag accuracy: 0.99089\n",
      "              precision    recall  f1-score   support\n",
      "\n",
      "           0       1.00      0.99      0.99      5820\n",
      "           1       0.96      1.00      0.98      1680\n",
      "\n",
      "    accuracy                           0.99      7500\n",
      "   macro avg       0.98      0.99      0.99      7500\n",
      "weighted avg       0.99      0.99      0.99      7500\n",
      "\n"
     ]
    },
    {
     "data": {
      "image/png": "[encoded data removed]",
      "text/plain": [
       "<Figure size 432x288 with 2 Axes>"
      ]
     },
     "metadata": {},
     "output_type": "display_data"
    },
    {
     "name": "stdout",
     "output_type": "stream",
     "text": [
      "[0.99266667 0.99133333 0.98822222 0.99044444 0.99088889]\n",
      "The average performance for 5 folds:  0.9907 \n"
     ]
    },
    {
     "data": {
      "image/png": "[encoded data removed]",
      "text/plain": [
       "<Figure size 432x288 with 1 Axes>"
      ]
     },
     "metadata": {},
     "output_type": "display_data"
    }
   ],
   "source": [
    "#Random Forest\n",
    "from sklearn.ensemble import RandomForestClassifier\n",
    "rf=RandomForestClassifier(n_estimators=500,min_samples_leaf=16,n_jobs=-1,oob_score=True)\n",
    "rfModel=rf.fit(X_train, y_train)\n",
    "\n",
    "y_pred_rf=rfModel.predict(X_test)\n",
    "predProb_rf=rfModel.predict_proba(X_test)\n",
    "cm_rf=confusion_matrix(y_test, y_pred_rf)\n",
    "print(\"Confusion matrix:\")\n",
    "print(cm_rf)\n",
    "print(f\"Test accuracy: {np.sum(np.diag(cm_rf))/np.sum(cm_rf):3.5}\")\n",
    "\n",
    "print(f\"out-of-bag accuracy: {rfModel.oob_score_:3.5}\")\n",
    "\n",
    "print(classification_report(y_test, y_pred_rf))\n",
    "sns.heatmap(cm_rf, cmap=\"Spectral\")\n",
    "plt.show()\n",
    "\n",
    "nfolds=5\n",
    "cv_scores2 = cross_val_score(rfModel, X_train, y_train, cv=nfolds)\n",
    "plt.plot(np.linspace(0,30000,nfolds),cv_scores2)\n",
    "print(cv_scores2)\n",
    "print(\"The average performance for %d folds:  %4.4f \"%(nfolds, np.sum(cv_scores2)/nfolds))"
   ]
  },
  {
   "cell_type": "markdown",
   "id": "ae2e2ef0",
   "metadata": {},
   "source": [
    "#### Comments on Random Forest\n",
    "As we can see, accuracy of Random Forest model surpassed the benchmark set by Naive-Bayes. Also, it has a very high out-of-bag score that validates the model, we can consider this as the best model till now."
   ]
  },
  {
   "cell_type": "markdown",
   "id": "3079dadb",
   "metadata": {},
   "source": [
    "#### Logistic Regression\n",
    "Since we are doing a binary classification, we can use logistic regression as one of our models. "
   ]
  },
  {
   "cell_type": "code",
   "execution_count": 29,
   "id": "897702ab",
   "metadata": {},
   "outputs": [
    {
     "name": "stdout",
     "output_type": "stream",
     "text": [
      "Number of mislabeled points out of a total 7500 points : 138\n",
      "Confusion matrix:\n",
      "[[5778   45]\n",
      " [  93 1584]]\n"
     ]
    },
    {
     "data": {
      "image/png": "[encoded data removed]",
      "text/plain": [
       "<Figure size 432x288 with 2 Axes>"
      ]
     },
     "metadata": {},
     "output_type": "display_data"
    },
    {
     "name": "stdout",
     "output_type": "stream",
     "text": [
      "Report for regression:\n",
      "              precision    recall  f1-score   support\n",
      "\n",
      "           0       0.98      0.99      0.99      5823\n",
      "           1       0.97      0.94      0.96      1677\n",
      "\n",
      "    accuracy                           0.98      7500\n",
      "   macro avg       0.98      0.97      0.97      7500\n",
      "weighted avg       0.98      0.98      0.98      7500\n",
      "\n",
      "Error rate : 0.0184\n"
     ]
    }
   ],
   "source": [
    "#Logistic Regression\n",
    "\n",
    "log_rig=LogisticRegression(max_iter=1000)\n",
    "log_rig.fit(X_train,y_train)\n",
    "y_pred=log_rig.predict(X_test)\n",
    "\n",
    "\n",
    "\n",
    "print(f\"Number of mislabeled points out of a total {X_test.shape[0]} points : {(y_test != y_pred).sum()}\")\n",
    "C=confusion_matrix(y_test, y_pred)\n",
    "print(\"Confusion matrix:\")\n",
    "print(C)\n",
    "\n",
    "sns.heatmap(C, cmap=\"Spectral\",annot=False)\n",
    "plt.title(f\"confusion matrix with accuracy {sum(np.diag(C))/C.sum():5.3}\")\n",
    "plt.show()\n",
    "\n",
    "print(\"Report for regression:\")\n",
    "print(classification_report(y_test,y_pred))\n",
    "print(f\"Error rate : {(1.-sum(np.diag(C))/C.sum()):5.3}\")\n",
    "\n",
    "\n",
    "\n",
    "\n"
   ]
  },
  {
   "cell_type": "markdown",
   "id": "7fe81092",
   "metadata": {},
   "source": [
    "#### Comments on Logistic Regression\n",
    "We can see the accuracy of 84.5% and misclassification of 1159 data points out of a total 7500 test data points. \n",
    "Error rate comes out to be 0.155\n",
    "\n",
    "#### Logistic Regression Using Regularisation\n",
    "We tried to use regularisation to reduce the error and avoid overfitting but this has taken a toll on accuracy and it has gone down to 77.6%.\n",
    "Thus, we continue to look for better model."
   ]
  },
  {
   "cell_type": "code",
   "execution_count": 32,
   "id": "2557099e",
   "metadata": {},
   "outputs": [
    {
     "name": "stdout",
     "output_type": "stream",
     "text": [
      "Number of mislabeled points out of a total 7500 points : 265\n",
      "Confusion matrix:\n",
      "[[5800   23]\n",
      " [ 242 1435]]\n"
     ]
    },
    {
     "data": {
      "image/png": "[encoded data removed]",
      "text/plain": [
       "<Figure size 432x288 with 2 Axes>"
      ]
     },
     "metadata": {},
     "output_type": "display_data"
    },
    {
     "name": "stdout",
     "output_type": "stream",
     "text": [
      "Report for regression:\n",
      "              precision    recall  f1-score   support\n",
      "\n",
      "           0       0.96      1.00      0.98      5823\n",
      "           1       0.98      0.86      0.92      1677\n",
      "\n",
      "    accuracy                           0.96      7500\n",
      "   macro avg       0.97      0.93      0.95      7500\n",
      "weighted avg       0.97      0.96      0.96      7500\n",
      "\n",
      "Error rate : 0.0353\n"
     ]
    }
   ],
   "source": [
    "##Logistic Regression with L1 regularisation SAGA solver\n",
    "best_accuracy = 0\n",
    "for c in [0.01,0.1,1,10]:\n",
    "    logr = LogisticRegression(penalty='l1', C=c, solver='saga')\n",
    "    logr.fit(X_train, y_train)\n",
    "    Y_pred = logr.predict(X_test)\n",
    "    Y_pred_prob = logr.predict_proba(X_test)\n",
    "    \n",
    "    Conf = confusion_matrix(y_test, Y_pred)\n",
    "    accuracy = accuracy_score(y_test, Y_pred)\n",
    "        \n",
    "    if (accuracy > best_accuracy):\n",
    "        best_accuracy = accuracy \n",
    "        best_c = c\n",
    "        best_conf = Conf\n",
    "\n",
    "print(f\"Number of mislabeled points out of a total {X_test.shape[0]} points : {(y_test != Y_pred).sum()}\")\n",
    "C=confusion_matrix(y_test, Y_pred)\n",
    "\n",
    "print(\"Confusion matrix:\")\n",
    "print(C)\n",
    "\n",
    "sns.heatmap(best_conf, cmap='Spectral')\n",
    "plt.title(f\"Best Confusion matrix with C:{best_c} and Accuracy:{best_accuracy}\")\n",
    "plt.show()\n",
    "\n",
    "print(\"Report for regression:\")\n",
    "print(classification_report(y_test,Y_pred))\n",
    "print(f\"Error rate : {(1.-sum(np.diag(C))/C.sum()):5.3}\")\n",
    "        \n",
    "\n",
    "\n"
   ]
  },
  {
   "cell_type": "code",
   "execution_count": 33,
   "id": "36822368",
   "metadata": {},
   "outputs": [
    {
     "name": "stdout",
     "output_type": "stream",
     "text": [
      "Number of mislabeled points out of a total 7500 points : 226\n",
      "Confusion matrix:\n",
      "[[5794   29]\n",
      " [ 197 1480]]\n"
     ]
    },
    {
     "data": {
      "image/png": "[encoded data removed]",
      "text/plain": [
       "<Figure size 432x288 with 2 Axes>"
      ]
     },
     "metadata": {},
     "output_type": "display_data"
    },
    {
     "name": "stdout",
     "output_type": "stream",
     "text": [
      "Report for regression:\n",
      "              precision    recall  f1-score   support\n",
      "\n",
      "           0       0.97      1.00      0.98      5823\n",
      "           1       0.98      0.88      0.93      1677\n",
      "\n",
      "    accuracy                           0.97      7500\n",
      "   macro avg       0.97      0.94      0.95      7500\n",
      "weighted avg       0.97      0.97      0.97      7500\n",
      "\n",
      "Error rate : 0.0301\n"
     ]
    }
   ],
   "source": [
    "##Logistic Regression with L2 regularisation SAG solver\n",
    "best_accuracy = 0\n",
    "for c in [0.01,0.1,1,10]:\n",
    "    logr = LogisticRegression(penalty='l2', C=c, solver='sag')\n",
    "    logr.fit(X_train, y_train)\n",
    "    Y_pred = logr.predict(X_test)\n",
    "    Y_pred_prob = logr.predict_proba(X_test)\n",
    "    \n",
    "    Conf = confusion_matrix(y_test, Y_pred)\n",
    "    accuracy = accuracy_score(y_test, Y_pred)\n",
    "        \n",
    "    if (accuracy > best_accuracy):\n",
    "        best_accuracy = accuracy \n",
    "        best_c = c\n",
    "        best_conf = Conf\n",
    "        \n",
    "print(f\"Number of mislabeled points out of a total {X_test.shape[0]} points : {(y_test != Y_pred).sum()}\")\n",
    "C=confusion_matrix(y_test, Y_pred)\n",
    "print(\"Confusion matrix:\")\n",
    "print(C)\n",
    "\n",
    "sns.heatmap(best_conf, cmap='Spectral')\n",
    "plt.title(f\"Best Confusion matrix with C:{best_c} and Accuracy:{best_accuracy}\")\n",
    "plt.show()\n",
    "\n",
    "print(\"Report for regression:\")\n",
    "print(classification_report(y_test,Y_pred))\n",
    "print(f\"Error rate : {(1.-sum(np.diag(C))/C.sum()):5.3}\")\n",
    "\n",
    "\n"
   ]
  },
  {
   "cell_type": "markdown",
   "id": "ba0ce0dd",
   "metadata": {},
   "source": [
    "#### SUPPORT VECTOR MACHINES\n",
    "\n",
    "Next, we will fit the data in SVM classifier model and see how it performs. Starting with Radial Basis Function :"
   ]
  },
  {
   "cell_type": "code",
   "execution_count": 34,
   "id": "35438bee",
   "metadata": {},
   "outputs": [
    {
     "name": "stdout",
     "output_type": "stream",
     "text": [
      "Number of mislabeled points out of a total 7500 points : 344\n",
      "              precision    recall  f1-score   support\n",
      "\n",
      "           0       0.95      1.00      0.97      5823\n",
      "           1       0.99      0.81      0.89      1677\n",
      "\n",
      "    accuracy                           0.95      7500\n",
      "   macro avg       0.97      0.90      0.93      7500\n",
      "weighted avg       0.96      0.95      0.95      7500\n",
      "\n",
      "The confusion matrix:\n",
      " [[5805   18]\n",
      " [ 326 1351]]\n",
      "Error rate: 0.0459\n"
     ]
    },
    {
     "data": {
      "image/png": "[encoded data removed]",
      "text/plain": [
       "<Figure size 432x288 with 2 Axes>"
      ]
     },
     "metadata": {},
     "output_type": "display_data"
    }
   ],
   "source": [
    "#SVM using Radial kernel\n",
    "from sklearn.svm import SVC\n",
    "svmClf=SVC(kernel=\"rbf\",probability=True)\n",
    "svmClf.fit(X_train, y_train)\n",
    "y_pred=svmClf.predict(X_test)\n",
    "\n",
    "print(\"Number of mislabeled points out of a total %d points : %d\" % (X_test.shape[0], (y_test != y_pred).sum()))\n",
    "\n",
    "C=confusion_matrix(y_test, y_pred)\n",
    "print(classification_report(y_test,y_pred))\n",
    "print(\"The confusion matrix:\\n\", C)\n",
    "print(f\"Error rate: {(1.-sum(np.diag(C))/C.sum()):5.3}\")\n",
    "\n",
    "sns.heatmap(C, cmap=\"Spectral\")\n",
    "plt.show()"
   ]
  },
  {
   "cell_type": "markdown",
   "id": "1d0e9228",
   "metadata": {},
   "source": [
    "#### Comments on SVM with RBF\n",
    "It looks like although the SVM (RBF) model shows an accuracy of 78% it is misclassifying all of the data where Default should have been predicted as 1 (i.e where the business failed to repay the loan). This does not work in favour of what we are trying to predict here.\n",
    "\n",
    "#### SVM with Poylnomial Degree=3\n",
    "Next we will try polynomial kernel function for Logistic Regression to see how it performs."
   ]
  },
  {
   "cell_type": "code",
   "execution_count": null,
   "id": "165451b8",
   "metadata": {},
   "outputs": [],
   "source": [
    "X_train, X_test, y_train, y_test = train_test_split(X, y, test_size=0.25)\n",
    "\n",
    "from sklearn.svm import SVC\n",
    "svmClf=SVC(kernel=\"poly\",degree=3,probability=True)\n",
    "svmClf.fit(X_train, y_train)\n",
    "y_pred=svmClf.predict(X_test)\n",
    "\n",
    "print(\"Number of mislabeled points out of a total %d points : %d\" % (X_test.shape[0], (y_test != y_pred).sum()))"
   ]
  },
  {
   "cell_type": "code",
   "execution_count": 38,
   "id": "8d0c7baf",
   "metadata": {},
   "outputs": [
    {
     "name": "stdout",
     "output_type": "stream",
     "text": [
      "              precision    recall  f1-score   support\n",
      "\n",
      "           0       0.92      1.00      0.96      5810\n",
      "           1       0.98      0.71      0.83      1690\n",
      "\n",
      "    accuracy                           0.93      7500\n",
      "   macro avg       0.95      0.86      0.89      7500\n",
      "weighted avg       0.94      0.93      0.93      7500\n",
      "\n",
      "The confusion matrix:\n",
      " [[5790   20]\n",
      " [ 484 1206]]\n"
     ]
    },
    {
     "data": {
      "image/png": "[encoded data removed]",
      "text/plain": [
       "<Figure size 432x288 with 2 Axes>"
      ]
     },
     "metadata": {},
     "output_type": "display_data"
    },
    {
     "name": "stdout",
     "output_type": "stream",
     "text": [
      "Error rate: 0.0672\n"
     ]
    }
   ],
   "source": [
    "C=confusion_matrix(y_test, y_pred)\n",
    "print(classification_report(y_test,y_pred))\n",
    "print(\"The confusion matrix:\\n\", C)\n",
    "sns.heatmap(C, cmap=\"Spectral\")\n",
    "plt.show()\n",
    "\n",
    "print(f\"Error rate: {(1.-sum(np.diag(C))/C.sum()):5.3}\")\n",
    "\n"
   ]
  },
  {
   "cell_type": "markdown",
   "id": "478c1ce8",
   "metadata": {},
   "source": [
    "#### Comments on SVM Polynomial\n",
    "As seen in SVM with RBF kernel, the polynomial kernel also fails to identify the Defaulters in the dataset and has an error rate of 22.4% \n",
    "Looks like SVM is not the best classifier function for this dataset.\n",
    "\n",
    "\n",
    "#### Neural Net with Three Layers\n",
    "Implementing neural net with three hidden layers first :"
   ]
  },
  {
   "cell_type": "code",
   "execution_count": 39,
   "id": "631ac360",
   "metadata": {},
   "outputs": [
    {
     "name": "stdout",
     "output_type": "stream",
     "text": [
      "Number of mislabeled points out of a total 7500 points : 111\n",
      "              precision    recall  f1-score   support\n",
      "\n",
      "           0       0.99      0.99      0.99      5810\n",
      "           1       0.97      0.97      0.97      1690\n",
      "\n",
      "    accuracy                           0.99      7500\n",
      "   macro avg       0.98      0.98      0.98      7500\n",
      "weighted avg       0.99      0.99      0.99      7500\n",
      "\n",
      "The confusion matrix:\n",
      " [[5758   52]\n",
      " [  59 1631]]\n"
     ]
    },
    {
     "data": {
      "image/png": "[encoded data removed]",
      "text/plain": [
       "<Figure size 432x288 with 2 Axes>"
      ]
     },
     "metadata": {},
     "output_type": "display_data"
    },
    {
     "name": "stdout",
     "output_type": "stream",
     "text": [
      "Error rate: 0.0148\n"
     ]
    }
   ],
   "source": [
    "from sklearn.neural_network import MLPClassifier\n",
    "import seaborn as sb\n",
    "import matplotlib.pyplot as plt\n",
    "from sklearn.metrics import classification_report, confusion_matrix, accuracy_score\n",
    "\n",
    "nn3 = MLPClassifier(hidden_layer_sizes=(128,128,64))\n",
    "nn3.fit(X_train, y_train)\n",
    "Y_pred = nn3.predict(X_test)\n",
    "Y_pred_prob = nn3.predict_proba(X_test)\n",
    "    \n",
    "\n",
    "accuracy = accuracy_score(y_test, Y_pred)\n",
    "\n",
    "print(\"Number of mislabeled points out of a total %d points : %d\" % (X_test.shape[0], (y_test != Y_pred).sum()))\n",
    "\n",
    "C=confusion_matrix(y_test, Y_pred)\n",
    "print(classification_report(y_test,Y_pred))\n",
    "print(\"The confusion matrix:\\n\", C)\n",
    "sns.heatmap(C, cmap='Spectral')\n",
    "plt.title(f\"Confusion matrix with Accuracy:{accuracy}\")\n",
    "plt.show()\n",
    "\n",
    "print(f\"Error rate: {(1.-sum(np.diag(C))/C.sum()):5.3}\")\n",
    "\n"
   ]
  },
  {
   "cell_type": "markdown",
   "id": "dabe4067",
   "metadata": {},
   "source": [
    "#### Comments on Neural Net with 3 layers\n",
    "We can see that this model has given us an accuracy of 84% which is not the best but is much better than SVMs and equivalent to that of Logistic Regression (without Regularisation).\n",
    "\n",
    "#### Neural Net with Four Layers\n",
    "Checking if including more hidden layers would improve the accuracy of neural network"
   ]
  },
  {
   "cell_type": "code",
   "execution_count": 40,
   "id": "3ae4b379",
   "metadata": {},
   "outputs": [
    {
     "name": "stdout",
     "output_type": "stream",
     "text": [
      "Number of mislabeled points out of a total 7500 points : 1013\n",
      "              precision    recall  f1-score   support\n",
      "\n",
      "           0       0.85      1.00      0.92      5810\n",
      "           1       0.99      0.41      0.58      1690\n",
      "\n",
      "    accuracy                           0.86      7500\n",
      "   macro avg       0.92      0.70      0.75      7500\n",
      "weighted avg       0.88      0.86      0.84      7500\n",
      "\n",
      "The confusion matrix:\n",
      " [[5801    9]\n",
      " [1004  686]]\n"
     ]
    },
    {
     "data": {
      "image/png": "[encoded data removed]",
      "text/plain": [
       "<Figure size 432x288 with 2 Axes>"
      ]
     },
     "metadata": {},
     "output_type": "display_data"
    },
    {
     "name": "stdout",
     "output_type": "stream",
     "text": [
      "Error rate: 0.135\n"
     ]
    }
   ],
   "source": [
    "nn4 = MLPClassifier(hidden_layer_sizes=(128,128,64,32))\n",
    "nn4.fit(X_train, y_train)\n",
    "Y_pred = nn4.predict(X_test)\n",
    "Y_pred_prob = nn4.predict_proba(X_test)\n",
    "    \n",
    "accuracy = accuracy_score(y_test, Y_pred)\n",
    "\n",
    "print(\"Number of mislabeled points out of a total %d points : %d\" % (X_test.shape[0], (y_test != Y_pred).sum()))\n",
    "\n",
    "C=confusion_matrix(y_test, Y_pred)\n",
    "print(classification_report(y_test,Y_pred))\n",
    "print(\"The confusion matrix:\\n\", C)\n",
    "sns.heatmap(C, cmap='Spectral')\n",
    "plt.title(f\"Confusion matrix with Accuracy:{accuracy}\")\n",
    "plt.show()\n",
    "\n",
    "print(f\"Error rate: {(1.-sum(np.diag(C))/C.sum()):5.3}\")\n",
    "\n"
   ]
  },
  {
   "cell_type": "markdown",
   "id": "03115879",
   "metadata": {},
   "source": [
    "#### Comments on Neural Net with Four Layers\n",
    "Looks like neural net with 3 layers is performing much better than neural net with 4 layers. Accuracy has gone down to 78% so looks like adding extra layers is not doing anything to improve the model.\n",
    "\n",
    "\n",
    "### CONCLUSION\n",
    "The below plot compares the accuracies of all the models and displays the result. \n",
    "As we can see from the plot, the Random Forest model has the best accuracy followed by Naive-Bayes, KNN, and Logistic Regression/Neural Nets. "
   ]
  },
  {
   "cell_type": "code",
   "execution_count": 161,
   "id": "e58adfe5",
   "metadata": {},
   "outputs": [
    {
     "data": {
      "text/plain": [
       "Text(0.5, 1.0, 'Scatter plot of accuracy of models on SBA Loan Dataset')"
      ]
     },
     "execution_count": 161,
     "metadata": {},
     "output_type": "execute_result"
    },
    {
     "data": {
      "image/png": "[encoded data removed]",
      "text/plain": [
       "<Figure size 432x288 with 1 Axes>"
      ]
     },
     "metadata": {},
     "output_type": "display_data"
    }
   ],
   "source": [
    "accuracy = np.array([0.98,0.88,0.99,0.85,0.776,0.78,0.78,0.84,0.78])\n",
    "Model = np.array([\"Naive\", \"KNN\", \"Random Forest\", \"Logistic Regression\", \"Logistic Regression Regularized\",\"SVM RBF\",\"SVM POLY\",\"Neural Net 3\",\"Neural Net 4\"])\n",
    "plt.plot(Model,accuracy,'o-g')\n",
    "plt.xticks(rotation=90)\n",
    "plt.ylabel('Models')\n",
    "plt.xlabel('Accuracy')\n",
    "plt.title('Scatter plot of accuracy of models on SBA Loan Dataset')"
   ]
  }
 ],
 "metadata": {
  "kernelspec": {
   "display_name": "Python 3",
   "language": "python",
   "name": "python3"
  },
  "language_info": {
   "codemirror_mode": {
    "name": "ipython",
    "version": 3
   },
   "file_extension": ".py",
   "mimetype": "text/x-python",
   "name": "python",
   "nbconvert_exporter": "python",
   "pygments_lexer": "ipython3",
   "version": "3.8.8"
  }
 },
 "nbformat": 4,
 "nbformat_minor": 5
}
